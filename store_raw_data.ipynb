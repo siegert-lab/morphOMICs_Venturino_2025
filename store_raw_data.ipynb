{
 "cells": [
  {
   "cell_type": "code",
   "execution_count": null,
   "metadata": {},
   "outputs": [],
   "source": [
    "%load_ext autoreload\n",
    "%autoreload 2"
   ]
  },
  {
   "cell_type": "code",
   "execution_count": null,
   "metadata": {},
   "outputs": [],
   "source": [
    "import os\n",
    "import pandas as pd\n",
    "from morphomics.io.io import get_info_frame\n",
    "\n",
    "raw_data_path = '../../Desktop/_morphOMICs_rawData'"
   ]
  },
  {
   "cell_type": "code",
   "execution_count": null,
   "metadata": {},
   "outputs": [],
   "source": [
    "import shutil\n",
    "def move_files(df):\n",
    "    for index, row in df.iterrows():\n",
    "        old_path = row['file_path']  # Source file path\n",
    "        new_path = row['new_file_path']  # Destination file path\n",
    "\n",
    "        # Create parent directories if they don't exist\n",
    "        os.makedirs(os.path.dirname(new_path), exist_ok=True)\n",
    "\n",
    "        # Move the file\n",
    "        try:\n",
    "            shutil.copy2(old_path, new_path)\n",
    "            print(f\"Moved: {old_path} -> {new_path}\")\n",
    "        except Exception as e:\n",
    "            print(f\"Error moving {old_path}: {e}\")\n"
   ]
  },
  {
   "cell_type": "markdown",
   "metadata": {},
   "source": [
    "Import V1"
   ]
  },
  {
   "cell_type": "code",
   "execution_count": null,
   "metadata": {},
   "outputs": [],
   "source": [
    "new_local_path = 'data_v1'\n",
    "v1_folder_name = 'V1'\n",
    "layer_list = ['L1', 'L2-3', 'L4', 'L5-6']"
   ]
  },
  {
   "cell_type": "code",
   "execution_count": null,
   "metadata": {},
   "outputs": [],
   "source": [
    "v1_path = os.path.join(raw_data_path, v1_folder_name)"
   ]
  },
  {
   "cell_type": "code",
   "execution_count": null,
   "metadata": {},
   "outputs": [],
   "source": [
    "# Get Dataset\n",
    "infoframe = get_info_frame(folder_location= v1_path,\n",
    "                            extension=\"corrected.swc\",\n",
    "                            conditions=['Layer', \n",
    "                                        'to_rm', \n",
    "                                        'Model', \n",
    "                                        'Age', \n",
    "                                        'Sex', \n",
    "                                        'Animal']\n",
    "                            )"
   ]
  },
  {
   "cell_type": "code",
   "execution_count": null,
   "metadata": {},
   "outputs": [],
   "source": [
    "infoframe = infoframe[infoframe['Layer'].isin(layer_list)]\n"
   ]
  },
  {
   "cell_type": "code",
   "execution_count": null,
   "metadata": {},
   "outputs": [],
   "source": [
    "infoframe['Layer'].unique()"
   ]
  },
  {
   "cell_type": "code",
   "execution_count": null,
   "metadata": {},
   "outputs": [],
   "source": [
    "# Preprocess Dataset labels, names\n",
    "infoframe = infoframe[infoframe['Layer'].isin(layer_list)]\n",
    "\n",
    "# Replace values\n",
    "infoframe['Layer'] = infoframe['Layer'].str.replace('-', '_')\n",
    "\n",
    "infoframe.drop(columns=['to_rm'], inplace=True)\n",
    "infoframe.drop(columns=['Age'], inplace=True)\n",
    "infoframe['Model'] = infoframe['Model'].replace('1xKXA', '1xKXA_4h')\n",
    "infoframe['Animal'] = infoframe['Animal'].str.upper()\n",
    "infoframe['Animal'] = infoframe['Animal'].str.replace('_KXA', '_1XKXA', regex=False)\n",
    "infoframe['Animal'] = infoframe['Animal'].str.replace('_SAL', '_1XSAL', regex=False)\n",
    "\n",
    "# Create new file path for importation\n",
    "infoframe['new_file_path'] = new_local_path + \"/\" + infoframe['Layer'] + \"/\" + infoframe['Model'] + \"/\" + infoframe['Sex'] + \"/\" + infoframe['Animal'] + \"/\" + infoframe['file_name']\n"
   ]
  },
  {
   "cell_type": "code",
   "execution_count": null,
   "metadata": {},
   "outputs": [],
   "source": [
    "move_files(df=infoframe)"
   ]
  },
  {
   "cell_type": "code",
   "execution_count": null,
   "metadata": {},
   "outputs": [],
   "source": [
    "infoframe = get_info_frame(folder_location= new_local_path,\n",
    "                            extension=\"corrected.swc\",\n",
    "                            conditions=['Layer', \n",
    "                                        'Model', \n",
    "                                        'Sex', \n",
    "                                        'Animal']\n",
    "                            )"
   ]
  }
 ],
 "metadata": {
  "kernelspec": {
   "display_name": "morpho_exp",
   "language": "python",
   "name": "python3"
  },
  "language_info": {
   "codemirror_mode": {
    "name": "ipython",
    "version": 3
   },
   "file_extension": ".py",
   "mimetype": "text/x-python",
   "name": "python",
   "nbconvert_exporter": "python",
   "pygments_lexer": "ipython3",
   "version": "3.9.19"
  }
 },
 "nbformat": 4,
 "nbformat_minor": 2
}
