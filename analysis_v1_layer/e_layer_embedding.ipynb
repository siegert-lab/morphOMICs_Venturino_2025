{
 "cells": [
  {
   "cell_type": "code",
   "execution_count": null,
   "metadata": {},
   "outputs": [],
   "source": [
    "%load_ext autoreload\n",
    "%autoreload 2"
   ]
  },
  {
   "cell_type": "code",
   "execution_count": null,
   "metadata": {},
   "outputs": [],
   "source": [
    "from morphomics.io.io import load_obj, save_obj\n",
    "from kxa_analysis import dimreduction_runner, bootstrap_runner\n",
    "import numpy as np\n",
    "from kxa_analysis import plot_2d, plot_pi, plot_dist_matrix, mask_pi, get_base, inverse_function, get_2d, plot_vae_dist\n",
    "import plotly.express as px\n",
    "from scipy.spatial.distance import pdist, squareform\n",
    "import matplotlib.pyplot as plt\n",
    "import matplotlib.colors as mcolors\n",
    "import torch as th\n",
    "from morphomics.nn_models import train_test\n",
    "\n",
    "import pandas as pd\n",
    "base_path = \"results/vae_analysis/\"\n",
    "\n",
    "from microglia_retina.analysis import io_retina\n",
    "from microglia_retina.analysis import Retina, retina\n",
    "\n",
    "from scipy.spatial.distance import cdist\n"
   ]
  },
  {
   "cell_type": "code",
   "execution_count": null,
   "metadata": {},
   "outputs": [],
   "source": [
    "reduced_path = \"results/dim_reduction/Morphomics.PID_v1_l.pi_pca_vae_1_reduced_data\"\n",
    "mf = load_obj(reduced_path)\n",
    "mf_vae_kxa =  mf[mf['Model'].isin(['1xSaline_4h', '1xKXA_4h'])].copy()\n",
    "layers = mf_vae_kxa['Layer'].unique()\n",
    "\n",
    "mf_vae_kxa['Condition'] = mf_vae_kxa.apply(lambda row: f\"{row['Model']}-{row['Sex']}\", axis=1)\n",
    "mf_vae_kxa['Condition_l'] = mf_vae_kxa.apply(lambda row: f\"{row['Layer']}-{row['Model']}-{row['Sex']}-{row['Animal']}\", axis=1)\n",
    "animals = mf_vae_kxa['Animal'].unique()\n",
    "# First, ensure that 'pca_vae' contains numeric values and convert them if needed\n",
    "mf_vae_kxa['pca_vae'] = mf_vae_kxa['pca_vae'].apply(lambda x: np.array(x) if isinstance(x, list) else x)\n",
    "\n",
    "# Compute the median of each component (assuming each value in 'pca_vae' is a vector)\n",
    "# We apply np.median to the individual components of the vector for each group in Condition\n",
    "median_pi_by_condition = mf_vae_kxa.groupby('Condition')['pca_vae'].apply(lambda x: np.median(np.array(x).tolist(), axis=0))\n"
   ]
  },
  {
   "cell_type": "code",
   "execution_count": null,
   "metadata": {},
   "outputs": [],
   "source": [
    "def rgb_str_to_mpl_tuple(rgb_str):\n",
    "    # Convert 'rgb(r, g, b)' to a tuple of floats between 0 and 1\n",
    "    rgb = [int(c) for c in rgb_str.strip('rgb()').split(',')]\n",
    "    return tuple([c/255 for c in rgb])\n",
    "conditions_colors = {\n",
    "    # '1xSaline_4h-F': rgb_str_to_mpl_tuple('rgb(130, 130, 130)'),\n",
    "    '1xSaline_4h-M': rgb_str_to_mpl_tuple('rgb(20, 20, 20)'),\n",
    "    '1xKXA_4h-F': rgb_str_to_mpl_tuple('rgb(255, 50, 255)'),\n",
    "    '1xSaline_4h-F': rgb_str_to_mpl_tuple('rgb(20, 20, 20)'),\n",
    "    '1xKXA_4h-M': rgb_str_to_mpl_tuple('rgb(20, 20, 20)'),\n",
    "\n",
    "    # '1xKXA_4h-M': rgb_str_to_mpl_tuple('rgb(50, 255, 255)'),\n",
    "}\n",
    "\n",
    "# Define a color map for the layers\n",
    "layer_colors = {\n",
    "    'L1': 'darkblue',\n",
    "    'L2_3': 'forestgreen',\n",
    "    'L5_6': 'darkorange',\n",
    "    'L4': 'purple'\n",
    "}\n"
   ]
  },
  {
   "cell_type": "code",
   "execution_count": null,
   "metadata": {},
   "outputs": [],
   "source": [
    "def retina(retina, is_voronoi=True, is_hull=True, is_retina_hull=False, title=None, subtitle=None, show=True):\n",
    "    # Create figure and axis\n",
    "    fig, ax = plt.subplots(figsize=(12, 12))\n",
    "\n",
    "    # Loop through the layers and plot the branches and somas with different colors based on their layer\n",
    "    for i, row in retina.microglias.iterrows():\n",
    "        condition = row['pred_Condition']\n",
    "        branch_xy = row['branches_coord']\n",
    "        lay = row['Layer']\n",
    "        soma_xy = row['soma_coord']\n",
    "        x, y = np.array(branch_xy[:,0]), np.array(branch_xy[:,1])\n",
    "\n",
    "        x0, y0 = soma_xy[0], soma_xy[1]\n",
    "        # Set color based on layer\n",
    "        cond_color = conditions_colors.get(condition, 'black')  # Default to black if the layer is unknown\n",
    "        lay_color = layer_colors.get(lay, 'black')  # Default to black if the layer is unknown\n",
    "\n",
    "        # Plot branch coordinates and soma coordinates\n",
    "        ax.plot(x, y, 'o', color=cond_color, markersize=0.2)\n",
    "        ax.plot(x0, y0, 'o', color=lay_color,  markersize=3)\n",
    "\n",
    "    branches_coords = np.concatenate(retina.microglias['branches_coord'])\n",
    "    x, y = branches_coords[:, 0], branches_coords[:, 1]\n",
    "\n",
    "    # Set axis limits based on the bounding box of all plotted points\n",
    "    x_min = min(np.min(x), np.min(x0))\n",
    "    x_max = max(np.max(x), np.max(x0))\n",
    "    y_min = min(np.min(y), np.min(y0))\n",
    "    y_max = max(np.max(y), np.max(y0))\n",
    "\n",
    "    padding = 0.05  # Add some padding around the edges\n",
    "    ax.set_xlim(x_min - padding * (x_max - x_min), x_max + padding * (x_max - x_min))\n",
    "    ax.set_ylim(y_min - padding * (y_max - y_min), y_max + padding * (y_max - y_min))\n",
    "\n",
    "    # Set plot aspect and title\n",
    "    ax.set_aspect('equal')\n",
    "    if title is None:\n",
    "        if retina.retina_path is not None:\n",
    "            title = retina.retina_path\n",
    "            index = title.rfind('/')\n",
    "            title = title[:index]\n",
    "            title.replace('/', ' ')\n",
    "        else:\n",
    "            title = ', '.join([f\"{key}: {value}\" for key, value in retina.conditions.items()])\n",
    "    ax.set_title(title, fontsize=14)  # Main title\n",
    "\n",
    "    # Add a subtitle\n",
    "    if subtitle is not None:\n",
    "        fig.text(0.5, 0.92, subtitle, ha='center', va='center', fontsize=10, color='gray')\n",
    "\n",
    "    # ax.legend()\n",
    "    if show:\n",
    "        plt.show()\n",
    "\n",
    "    # Return figure and axis for further customization\n",
    "    return fig, ax\n"
   ]
  },
  {
   "cell_type": "code",
   "execution_count": null,
   "metadata": {},
   "outputs": [],
   "source": [
    "# Convert the Series of medians to a DataFrame for distance calculations\n",
    "conditions = median_pi_by_condition.index.to_list()\n",
    "medians = np.stack(median_pi_by_condition.values)\n",
    "\n",
    "# Function to find closest condition for a given vector\n",
    "def predict_condition(vec):\n",
    "    dists = cdist([vec], medians)[0]  # distances to all medians\n",
    "    closest_idx = np.argmin(dists)\n",
    "    return conditions[closest_idx]\n",
    "\n",
    "# Apply the function to assign predicted condition\n",
    "mf_vae_kxa['pred_Condition'] = mf_vae_kxa['pca_vae'].apply(predict_condition)"
   ]
  },
  {
   "cell_type": "code",
   "execution_count": null,
   "metadata": {},
   "outputs": [],
   "source": [
    "for animal in animals:\n",
    "    sub_df = mf_vae_kxa[mf_vae_kxa['Animal'] == animal]\n",
    "    my_retina = Retina(info_frame=sub_df, conditions = {'Model':sub_df['Model'].iloc[0], 'Sex':sub_df['Sex'].iloc[0]})\n",
    "    my_retina.set_soma(dim = 3)\n",
    "    my_retina.set_branches(dim = 3)\n",
    "    retina(my_retina, is_voronoi=False, is_hull=False, is_retina_hull=False, title=None, subtitle = None, show = True)\n"
   ]
  },
  {
   "cell_type": "code",
   "execution_count": null,
   "metadata": {},
   "outputs": [],
   "source": [
    "df = mf_vae_kxa"
   ]
  },
  {
   "cell_type": "code",
   "execution_count": null,
   "metadata": {},
   "outputs": [],
   "source": [
    "from sklearn.metrics import confusion_matrix, ConfusionMatrixDisplay\n",
    "import matplotlib.pyplot as plt\n",
    "\n",
    "labels = ['1xSaline_4h-F', '1xSaline_4h-M', '1xKXA_4h-F', '1xKXA_4h-M']\n",
    "cm = confusion_matrix(df['Condition'], df['pred_Condition'], labels=labels)\n",
    "\n",
    "fig, ax = plt.subplots(figsize=(8, 8))  # 👈 increase size here\n",
    "disp = ConfusionMatrixDisplay(confusion_matrix=cm, display_labels=labels)\n",
    "disp.plot(cmap='Blues', ax=ax, colorbar=False)\n",
    "\n",
    "# Reverse y-axis\n",
    "ax.invert_yaxis()\n",
    "\n",
    "plt.title(\"Confusion Matrix\")\n",
    "plt.tight_layout()\n",
    "plt.show()\n"
   ]
  },
  {
   "cell_type": "code",
   "execution_count": null,
   "metadata": {},
   "outputs": [],
   "source": [
    "from sklearn.metrics import accuracy_score\n",
    "\n",
    "accuracy = accuracy_score(df['Condition'], df['pred_Condition'])\n",
    "print(f'Accuracy: {accuracy:.2f}')\n"
   ]
  },
  {
   "cell_type": "code",
   "execution_count": null,
   "metadata": {},
   "outputs": [],
   "source": [
    "from sklearn.metrics import classification_report\n",
    "\n",
    "report = classification_report(df['Condition'], df['pred_Condition'], target_names=['1xSaline_4h-F', '1xSaline_4h-M', '1xKXA_4h-F', '1xKXA_4h-M'])\n",
    "print(report)\n"
   ]
  },
  {
   "cell_type": "code",
   "execution_count": null,
   "metadata": {},
   "outputs": [],
   "source": [
    "import pandas as pd\n",
    "import numpy as np\n",
    "from scipy.stats import chi2_contingency\n",
    "\n",
    "def cramers_v(x, y):\n",
    "    confusion_matrix = pd.crosstab(x, y)\n",
    "    chi2 = chi2_contingency(confusion_matrix)[0]\n",
    "    n = confusion_matrix.sum().sum()\n",
    "    phi2 = chi2 / n\n",
    "    r, k = confusion_matrix.shape\n",
    "    return np.sqrt(phi2 / min(k - 1, r - 1))\n",
    "\n",
    "cramers = cramers_v(df['Condition'], df['pred_Condition'])\n",
    "print(f\"Cramér's V: {cramers:.2f}\")\n"
   ]
  },
  {
   "cell_type": "code",
   "execution_count": null,
   "metadata": {},
   "outputs": [],
   "source": [
    "df['Condition_bin'] = df['Condition'].apply(lambda x: x if x == '1xKXA_4h-F' else 'Ctrl')\n",
    "df['pred_Condition_bin'] = df['pred_Condition'].apply(lambda x: x if x == '1xKXA_4h-F' else 'Ctrl')\n"
   ]
  },
  {
   "cell_type": "code",
   "execution_count": null,
   "metadata": {},
   "outputs": [],
   "source": [
    "labels = ['Ctrl', '1xKXA_4h-F']\n",
    "cm = confusion_matrix(df['Condition_bin'], df['pred_Condition_bin'], labels=labels)\n",
    "\n",
    "fig, ax = plt.subplots(figsize=(8, 8))  # 👈 increase size here\n",
    "disp = ConfusionMatrixDisplay(confusion_matrix=cm, display_labels=labels)\n",
    "disp.plot(cmap='Blues', ax=ax, colorbar=False)\n",
    "\n",
    "# Reverse y-axis\n",
    "ax.invert_yaxis()\n",
    "\n",
    "plt.title(\"Confusion Matrix\")\n",
    "plt.tight_layout()\n",
    "plt.show()\n"
   ]
  },
  {
   "cell_type": "code",
   "execution_count": null,
   "metadata": {},
   "outputs": [],
   "source": [
    "accuracy = accuracy_score(df['Condition_bin'], df['pred_Condition_bin'])\n",
    "print(f'Accuracy: {accuracy:.2f}')\n"
   ]
  }
 ],
 "metadata": {
  "kernelspec": {
   "display_name": "kxa-ana",
   "language": "python",
   "name": "python3"
  },
  "language_info": {
   "codemirror_mode": {
    "name": "ipython",
    "version": 3
   },
   "file_extension": ".py",
   "mimetype": "text/x-python",
   "name": "python",
   "nbconvert_exporter": "python",
   "pygments_lexer": "ipython3",
   "version": "3.9.21"
  }
 },
 "nbformat": 4,
 "nbformat_minor": 2
}
