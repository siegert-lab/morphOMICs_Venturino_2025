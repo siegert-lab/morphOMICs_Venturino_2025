{
 "cells": [
  {
   "cell_type": "code",
   "execution_count": null,
   "metadata": {},
   "outputs": [],
   "source": [
    "%load_ext autoreload\n",
    "%autoreload 2"
   ]
  },
  {
   "cell_type": "code",
   "execution_count": null,
   "metadata": {},
   "outputs": [],
   "source": [
    "from morphomics.io.io import load_obj, save_obj\n",
    "from kxa_analysis import plot_2d\n",
    "import numpy as np"
   ]
  },
  {
   "cell_type": "code",
   "execution_count": null,
   "metadata": {},
   "outputs": [],
   "source": [
    "def plot_2d_layers(df_path,\n",
    "                    feature,\n",
    "                    title, \n",
    "                    base_save_folder_path,\n",
    "                    base_save_filename):\n",
    "    mf_ = load_obj(df_path)\n",
    "\n",
    "    # plot everything\n",
    "    # Replace '+' in the 'Model' column by escaping the '+' character in the filtering step\n",
    "    mf_['Model'] = mf_['Model'].str.replace(r'\\+', '+', regex=True)\n",
    "\n",
    "    # plot some conditions\n",
    "\n",
    "    # define names of the files\n",
    "    name_kxa = base_save_folder_path + base_save_filename + '_kxa_'\n",
    "    name_kxa_safit_f = base_save_folder_path + base_save_filename + '_kxa-safit_F_'\n",
    "    name_kxa_safit_m = base_save_folder_path + base_save_filename + '_kxa-safit_M_'\n",
    "\n",
    "    name_kxa_fkbp5ko_f = base_save_folder_path + base_save_filename + '_kxa-fkbp5ko_F_'\n",
    "    name_kxa_fkbp5ko_m = base_save_folder_path + base_save_filename + '_kxa-fkbp5ko_M_'\n",
    "\n",
    "    name_safit = base_save_folder_path + base_save_filename + '_safit_'\n",
    "\n",
    "    name_fkbp5ko = base_save_folder_path + base_save_filename + '_fkbp5ko_'\n",
    "\n",
    "    name_list = [name_kxa,\n",
    "                name_kxa_safit_f,\n",
    "                name_kxa_safit_m,\n",
    "                name_kxa_fkbp5ko_f,\n",
    "                name_kxa_fkbp5ko_m,\n",
    "                name_safit,\n",
    "                name_fkbp5ko]\n",
    "\n",
    "    # define sub morphoframes\n",
    "    mf_kxa = mf_[mf_['Model'].isin(['1xSaline_4h', '1xKXA_4h'])]\n",
    "\n",
    "    models_safit = ['1xSaline_4h', '1xKXA_4h', '1xKXA+SAFIT2_4h', '1xSaline+SAFIT2_4h']\n",
    "    models_fkbp5ko = ['1xSaline_4h', '1xKXA_4h', '1xKXA+FKBP5KO_4h', '1xSaline+FKBP5KO_4h']\n",
    "\n",
    "    mf_kxa_safit_f = mf_[(mf_['Sex'] == 'F') & (mf_['Model'].isin(models_safit))]\n",
    "    mf_kxa_safit_m = mf_[(mf_['Sex'] == 'M') & (mf_['Model'].isin(models_safit))]\n",
    "\n",
    "    mf_kxa_fkbp5ko_f = mf_[(mf_['Sex'] == 'F') & (mf_['Model'].isin(models_fkbp5ko))]\n",
    "    mf_kxa_fkbp5ko_m = mf_[(mf_['Sex'] == 'M') & (mf_['Model'].isin(models_fkbp5ko))]\n",
    "\n",
    "    mf_safit = mf_[mf_['Model'].isin(['1xSaline_4h', '1xSaline+SAFIT2_4h'])]\n",
    "    mf_fkbp5ko = mf_[mf_['Model'].isin(['1xSaline_4h', '1xSaline+FKBP5KO_4h'])]\n",
    "\n",
    "    mf_list = [\n",
    "        mf_kxa,\n",
    "        mf_kxa_safit_f,\n",
    "        mf_kxa_safit_m,\n",
    "        mf_kxa_fkbp5ko_f,\n",
    "        mf_kxa_fkbp5ko_m,\n",
    "        mf_safit,\n",
    "        mf_fkbp5ko\n",
    "    ]\n",
    "\n",
    "    for sub_mf, name in zip(mf_list, name_list):\n",
    "        plot_2d(df = sub_mf, \n",
    "                title = title,\n",
    "                feature = feature, \n",
    "                conditions = ['Layer','Model', 'Sex'],\n",
    "                name = name + 'layers_',\n",
    "                extension = 'html',\n",
    "                show=False)\n"
   ]
  },
  {
   "cell_type": "code",
   "execution_count": null,
   "metadata": {},
   "outputs": [],
   "source": [
    "df_path = \"results/dim_reduction/Morphomics.PID_v1_l.pi_umap_reduced_data\"\n",
    "feature = 'umap'\n",
    "title = 'UMAP of Persistence Images'\n",
    "base_folder_path = \"results/umap_plot_layers/pi/\"\n",
    "base_save_filename = \"pi_umap\"\n",
    "\n",
    "plot_2d_layers(df_path = df_path,\n",
    "                feature = feature,\n",
    "                title = title, \n",
    "                base_save_folder_path = base_folder_path,\n",
    "                base_save_filename = base_save_filename)"
   ]
  },
  {
   "cell_type": "code",
   "execution_count": null,
   "metadata": {},
   "outputs": [],
   "source": [
    "df_path = \"results/dim_reduction/Morphomics.PID_v1_l.pi_pca_vae_1_reduced_data\"\n",
    "feature = 'pca_vae'\n",
    "title = 'VAE Latent Space of Persistence Images'\n",
    "base_folder_path = \"results/vae_plot_layers/pi/\"\n",
    "base_save_filename = \"pi_vae\"\n",
    "\n",
    "plot_2d_layers(df_path = df_path,\n",
    "                feature = feature,\n",
    "                title = title, \n",
    "                base_save_folder_path = base_folder_path,\n",
    "                base_save_filename = base_save_filename)"
   ]
  }
 ],
 "metadata": {
  "kernelspec": {
   "display_name": "kxa-ana",
   "language": "python",
   "name": "python3"
  },
  "language_info": {
   "codemirror_mode": {
    "name": "ipython",
    "version": 3
   },
   "file_extension": ".py",
   "mimetype": "text/x-python",
   "name": "python",
   "nbconvert_exporter": "python",
   "pygments_lexer": "ipython3",
   "version": "3.9.21"
  }
 },
 "nbformat": 4,
 "nbformat_minor": 2
}
