{
 "cells": [
  {
   "cell_type": "code",
   "execution_count": null,
   "metadata": {},
   "outputs": [],
   "source": [
    "%load_ext autoreload\n",
    "%autoreload 2"
   ]
  },
  {
   "cell_type": "code",
   "execution_count": null,
   "metadata": {},
   "outputs": [],
   "source": [
    "from morphomics.io.io import load_obj, save_obj\n",
    "from kxa_analysis import dimreduction_runner, bootstrap_runner\n",
    "import numpy as np"
   ]
  },
  {
   "cell_type": "code",
   "execution_count": null,
   "metadata": {},
   "outputs": [],
   "source": [
    "# VAE parameters (KL factor)\n",
    "epochs = 2000\n",
    "x_values = np.linspace(2, 7, epochs)    \n",
    "kl_factor_list = list((1 - np.exp(-x_values)))\n",
    "vae_parameters = {}\n",
    "# Initialize the nested dictionaries\n",
    "vae_parameters[\"Dim_reductions\"] = {}\n",
    "vae_parameters[\"Dim_reductions\"][\"dimred_method_parameters\"] = {}\n",
    "vae_parameters[\"Dim_reductions\"][\"dimred_method_parameters\"][\"vae\"] = {\n",
    "    \"nb_epochs\": epochs,\n",
    "    \"kl_factor_function\": kl_factor_list\n",
    "}"
   ]
  },
  {
   "cell_type": "code",
   "execution_count": null,
   "metadata": {},
   "outputs": [],
   "source": [
    "experiment = 'v1_l'\n",
    "# Base path for storing results\n",
    "pi_lm_filepath = f\"results/vectorization/Morphomics.PID_{experiment}.pi_lm.pkl\""
   ]
  },
  {
   "cell_type": "code",
   "execution_count": null,
   "metadata": {},
   "outputs": [],
   "source": [
    "weights = [1.]\n",
    "\n",
    "vae_par = {\n",
    "    f'pi_pca_vae_{w}': {\n",
    "        \"nb_epochs\": 2000,\n",
    "        \"kl_factor_function\": list((1 - np.exp(-x_values)) / w)\n",
    "    }\n",
    "    for w in weights\n",
    "}\n"
   ]
  },
  {
   "cell_type": "code",
   "execution_count": null,
   "metadata": {},
   "outputs": [],
   "source": [
    "# Check and run each method only if the corresponding file does not exist\n",
    "for key, filename in vae_par.items():\n",
    "    print(f\"Run {key.replace('_', ' ')}\")\n",
    "\n",
    "    input_filepath = pi_lm_filepath\n",
    "\n",
    "    vae_parameters[\"Dim_reductions\"][\"dimred_method_parameters\"][\"vae\"] = vae_par[key]\n",
    "    vae_parameters[\"Dim_reductions\"][\"save_filename\"] = key\n",
    "\n",
    "    _ = dimreduction_runner(\n",
    "        parameters_id=experiment, \n",
    "        vectors_filepath=input_filepath, \n",
    "        vectorization_name='pi', \n",
    "        toml_filename=\"pca_vae.toml\", \n",
    "        is_bt=False,\n",
    "        extra_params=vae_parameters \n",
    "        )\n"
   ]
  },
  {
   "cell_type": "code",
   "execution_count": null,
   "metadata": {},
   "outputs": [],
   "source": [
    "output_base_path = f\"results/dim_reduction/Morphomics.PID_{experiment}.\"\n",
    "from kxa_analysis import plot_2d\n",
    "feature = 'pca_vae'\n",
    "title = 'VAE Latent Space of Persistence Images'\n",
    "base_folder_path = \"results/vae_plot/pi/\"\n",
    "\n",
    "for key, filename in vae_par.items():\n",
    "        df_path = f\"results/dim_reduction/Morphomics.PID_v1_l.{key}_reduced_data\"\n",
    "        mf_ = load_obj(df_path)\n",
    "\n",
    "        # plot everything\n",
    "        # Replace '+' in the 'Model' column by escaping the '+' character in the filtering step\n",
    "        mf_['Model'] = mf_['Model'].str.replace(r'\\+', '+', regex=True)\n",
    "\n",
    "        plot_2d(df = mf_, \n",
    "                title = title,\n",
    "                feature = feature, \n",
    "                conditions = ['Model', 'Sex'],\n",
    "                name = base_folder_path + key + '_kxa-safit2-fkbp5ko_',\n",
    "                extension = 'html',\n",
    "                show=False)"
   ]
  }
 ],
 "metadata": {
  "kernelspec": {
   "display_name": "kxa-ana",
   "language": "python",
   "name": "python3"
  },
  "language_info": {
   "codemirror_mode": {
    "name": "ipython",
    "version": 3
   },
   "file_extension": ".py",
   "mimetype": "text/x-python",
   "name": "python",
   "nbconvert_exporter": "python",
   "pygments_lexer": "ipython3",
   "version": "3.9.21"
  }
 },
 "nbformat": 4,
 "nbformat_minor": 2
}
