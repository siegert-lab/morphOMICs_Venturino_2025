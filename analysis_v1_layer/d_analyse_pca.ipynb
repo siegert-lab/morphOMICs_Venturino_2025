{
 "cells": [
  {
   "cell_type": "code",
   "execution_count": null,
   "metadata": {},
   "outputs": [],
   "source": [
    "%load_ext autoreload\n",
    "%autoreload 2"
   ]
  },
  {
   "cell_type": "code",
   "execution_count": null,
   "metadata": {},
   "outputs": [],
   "source": [
    "from morphomics.io.io import load_obj, save_obj\n",
    "from kxa_analysis import dimreduction_runner, bootstrap_runner\n",
    "import numpy as np\n",
    "from kxa_analysis import plot_2d, plot_pi, plot_dist_matrix, mask_pi\n",
    "import plotly.express as px\n",
    "from scipy.spatial.distance import pdist, squareform\n",
    "import matplotlib.pyplot as plt\n",
    "import matplotlib.colors as mcolors\n",
    "import pandas as pd\n",
    "base_path = \"results/pca/\"\n"
   ]
  },
  {
   "cell_type": "code",
   "execution_count": null,
   "metadata": {},
   "outputs": [],
   "source": [
    "# Base path for storing results\n",
    "dimreducer_path = \"results/dim_reduction/Morphomics.PID_v1_l.pi_pca_vae_1_fitted_dimreducer\"\n",
    "reduced_path = \"results/dim_reduction/Morphomics.PID_v1_l.pi_pca_vae_1_reduced_data\"\n",
    "\n",
    "vae_pip = load_obj(dimreducer_path)\n",
    "mf = load_obj(reduced_path)\n",
    "mf = mf.reset_index()  # Resets the index and adds the old index as a column\n",
    "mf.rename(columns={'index': 'old_idcs'}, inplace=True)\n",
    "pis = mf['pi']\n",
    "pi_example = pis.iloc[0]"
   ]
  },
  {
   "cell_type": "code",
   "execution_count": null,
   "metadata": {},
   "outputs": [],
   "source": [
    "def get_base(pi, pixes_tokeep):\n",
    "    pi_full = np.zeros_like(pi_example)\n",
    "    pi_full[pixes_tokeep] = pi\n",
    "    return pi_full"
   ]
  },
  {
   "cell_type": "code",
   "execution_count": null,
   "metadata": {},
   "outputs": [],
   "source": [
    "# Create a new column for the condition (Model + Sex)\n",
    "mf['Condition'] = mf['Model'] + \"-\" + mf['Sex']\n",
    "# Sort by condition\n",
    "mf_sorted = mf.sort_values(by='Condition').reset_index(drop=True)"
   ]
  },
  {
   "cell_type": "markdown",
   "metadata": {},
   "source": [
    "# Apply Threshold"
   ]
  },
  {
   "cell_type": "code",
   "execution_count": null,
   "metadata": {},
   "outputs": [],
   "source": [
    "pixes_tokeep = vae_pip['pixes_tokeep']\n",
    "pis_threshold = pis.apply(lambda pi: mask_pi(pi, pixes_tokeep)[0])\n",
    "pis_filtered = pis.apply(lambda pi: mask_pi(pi, pixes_tokeep)[1])"
   ]
  },
  {
   "cell_type": "code",
   "execution_count": null,
   "metadata": {},
   "outputs": [],
   "source": [
    "pi_th_example = pis_threshold.iloc[0]\n",
    "white_orange_cmap = mcolors.LinearSegmentedColormap.from_list(\"white_orange\", [\"white\", \"orange\"])\n",
    "\n",
    "plot_pi(pi_th_example, title= 'Persistence Image Example', \n",
    "        is_log = False, scale = 'Persistence Density',\n",
    "        cmap = 'hot',\n",
    "        name = f\"{base_path}/pi_example\")"
   ]
  },
  {
   "cell_type": "markdown",
   "metadata": {},
   "source": [
    "# Apply Scaler"
   ]
  },
  {
   "cell_type": "code",
   "execution_count": null,
   "metadata": {},
   "outputs": [],
   "source": [
    "standardizer = vae_pip['standardizer']\n",
    "pis_filtered_arr = np.vstack(pis_filtered)\n",
    "pis_scaled = standardizer.transform(pis_filtered_arr)"
   ]
  },
  {
   "cell_type": "code",
   "execution_count": null,
   "metadata": {},
   "outputs": [],
   "source": [
    "pi_scaled_full_example = get_base(pis_scaled[0], pixes_tokeep)\n",
    "\n",
    "# Define vmin and vmax for normalization\n",
    "vmin, vmax = pi_scaled_full_example.min(), pi_scaled_full_example.max()\n",
    "\n",
    "# Custom colormap: Choose alternative colors (Green for negative, Black for zero, Purple for positive)\n",
    "colors = [\"purple\", \"white\", \"orange\"]  # Change colors here if needed\n",
    "custom_cmap = mcolors.LinearSegmentedColormap.from_list(\"custom_cmap\", colors)\n",
    "\n",
    "# Normalize the colors to center at 0\n",
    "norm = mcolors.TwoSlopeNorm(vmin=vmin, vcenter=0, vmax=vmax)\n",
    "\n",
    "plot_pi(pi_scaled_full_example,cmap=custom_cmap,\n",
    "        title = 'Rescaled Persistence Image Example', is_log = False, norm=norm, \n",
    "        scale = 'Rescaled Persistence Density',\n",
    "        name = f\"{base_path}/rescaled_pi_example\")"
   ]
  },
  {
   "cell_type": "code",
   "execution_count": null,
   "metadata": {},
   "outputs": [],
   "source": [
    "pca = vae_pip['fitted_pca_vae'][0]"
   ]
  },
  {
   "cell_type": "code",
   "execution_count": null,
   "metadata": {},
   "outputs": [],
   "source": [
    "pis_pca = pca.transform(pis_scaled)"
   ]
  },
  {
   "cell_type": "code",
   "execution_count": null,
   "metadata": {},
   "outputs": [],
   "source": [
    "mf_pca = mf[['Layer', 'Model', 'Sex']]"
   ]
  },
  {
   "cell_type": "code",
   "execution_count": null,
   "metadata": {},
   "outputs": [],
   "source": [
    "pis_pca_2d = pis_pca[:,[0,1]]\n",
    "mf_pca['pi_pca_2d'] = list(pis_pca_2d)\n",
    "plot_2d(mf_pca, 'pi_pca_2d', title = 'PCA of Peristence Image', conditions = ['Model', 'Sex'], \n",
    "        show = True,\n",
    "        ax_labels=['PC 1', 'PC 2'],\n",
    "        extension = 'html',\n",
    "\n",
    "        name = f\"{base_path}/PC1_PC2_\")\n",
    "# def plot_2d(df, feature, title, conditions = ['Model', 'Sex'], colors= merged_dict, name = None, extension = 'pdf', show = True):\n"
   ]
  },
  {
   "cell_type": "code",
   "execution_count": null,
   "metadata": {},
   "outputs": [],
   "source": [
    "pis_pca_2d = pis_pca[:,[0,2]]\n",
    "mf_pca['pi_pca_2d'] = list(pis_pca_2d)\n",
    "plot_2d(mf_pca, 'pi_pca_2d', title = 'PCA of Peristence Image', conditions = ['Model', 'Sex'], \n",
    "        show = True,\n",
    "        ax_labels=['PC 1', 'PC 3'],\n",
    "        extension = 'html',\n",
    "        name = f\"{base_path}/PC1_PC3_\")"
   ]
  },
  {
   "cell_type": "code",
   "execution_count": null,
   "metadata": {},
   "outputs": [],
   "source": [
    "###  rf_rfe_selected or rf_sorted_idx or svm_rfe_selected\n",
    "\n",
    "# Get the PCA components (eigenvectors)\n",
    "loadings = pca.components_  # Shape: (n_components, n_features)\n",
    "\n",
    "# If feature names are available\n",
    "feature_names = [f'Feature{i+1}' for i in range(loadings.shape[1])]  # Replace with actual feature names if available\n",
    "\n",
    "# Convert to a DataFrame for better readability\n",
    "pc_load_df = pd.DataFrame(loadings, columns=feature_names, index=[f'PC{i+1}' for i in range(len(loadings))])"
   ]
  },
  {
   "cell_type": "code",
   "execution_count": null,
   "metadata": {},
   "outputs": [],
   "source": [
    "for i in [0,1,2]:\n",
    "    save_name = f\"{base_path}/loading_pc{i+1}\"  # Ensure proper path formatting\n",
    "    title = f\"Loading of Principal Component {i+1}\"  # Fixed typo in \"Principal\"\n",
    "    \n",
    "    pc_load_i_full = get_base(pc_load_df.iloc[i], pixes_tokeep)  # Check if indexing is correct\n",
    "    plot_pi(pc_load_i_full, name=save_name, title=title, is_log=False)"
   ]
  }
 ],
 "metadata": {
  "kernelspec": {
   "display_name": "kxa-ana",
   "language": "python",
   "name": "python3"
  },
  "language_info": {
   "codemirror_mode": {
    "name": "ipython",
    "version": 3
   },
   "file_extension": ".py",
   "mimetype": "text/x-python",
   "name": "python",
   "nbconvert_exporter": "python",
   "pygments_lexer": "ipython3",
   "version": "3.9.21"
  }
 },
 "nbformat": 4,
 "nbformat_minor": 2
}
