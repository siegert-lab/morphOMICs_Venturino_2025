{
 "cells": [
  {
   "cell_type": "code",
   "execution_count": null,
   "metadata": {},
   "outputs": [],
   "source": [
    "%load_ext autoreload\n",
    "%autoreload 2"
   ]
  },
  {
   "cell_type": "code",
   "execution_count": null,
   "metadata": {},
   "outputs": [],
   "source": [
    "from morphomics.io.io import load_obj, save_obj\n",
    "import pandas as pd"
   ]
  },
  {
   "cell_type": "code",
   "execution_count": null,
   "metadata": {},
   "outputs": [],
   "source": [
    "path_to_pi = \"results/vectorization/Morphomics.PID_v1_l.pi_100_filtered\"\n",
    "mf = load_obj(path_to_pi)"
   ]
  },
  {
   "cell_type": "code",
   "execution_count": null,
   "metadata": {},
   "outputs": [],
   "source": [
    "mf.keys()"
   ]
  },
  {
   "cell_type": "code",
   "execution_count": null,
   "metadata": {},
   "outputs": [],
   "source": [
    "conditions = ['Layer', 'Sex', 'Model']\n",
    "mf['Combined'] = mf[conditions].astype(str).agg('_'.join, axis=1)\n",
    "df_counts = mf.groupby(conditions).size().reset_index(name='count')\n",
    "df_counts"
   ]
  },
  {
   "cell_type": "code",
   "execution_count": null,
   "metadata": {},
   "outputs": [],
   "source": [
    "least_represented = mf['Combined'].value_counts().idxmin()\n",
    "least_count = mf['Combined'].value_counts().min()\n",
    "\n",
    "print(f\"Least represented value: {least_represented} (Count: {least_count})\")\n"
   ]
  },
  {
   "cell_type": "code",
   "execution_count": null,
   "metadata": {},
   "outputs": [],
   "source": [
    "mf_eqlzd = mf.groupby('Combined').sample(n=least_count, random_state=42, replace=False)"
   ]
  },
  {
   "cell_type": "code",
   "execution_count": null,
   "metadata": {},
   "outputs": [],
   "source": [
    "df_counts = mf_eqlzd.groupby(conditions).size().reset_index(name='count')\n",
    "df_counts\n"
   ]
  },
  {
   "cell_type": "code",
   "execution_count": null,
   "metadata": {},
   "outputs": [],
   "source": [
    "mf_path = 'results/vectorization/Morphomics.PID_v1_l.pi_100_filtered_eqlz'\n",
    "save_obj(mf_eqlzd, mf_path)"
   ]
  }
 ],
 "metadata": {
  "kernelspec": {
   "display_name": "morpho_exp",
   "language": "python",
   "name": "python3"
  },
  "language_info": {
   "codemirror_mode": {
    "name": "ipython",
    "version": 3
   },
   "file_extension": ".py",
   "mimetype": "text/x-python",
   "name": "python",
   "nbconvert_exporter": "python",
   "pygments_lexer": "ipython3",
   "version": "3.9.19"
  }
 },
 "nbformat": 4,
 "nbformat_minor": 2
}
