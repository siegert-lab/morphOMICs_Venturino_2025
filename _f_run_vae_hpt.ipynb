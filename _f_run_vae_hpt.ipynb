{
 "cells": [
  {
   "cell_type": "code",
   "execution_count": 1,
   "metadata": {},
   "outputs": [],
   "source": [
    "%load_ext autoreload\n",
    "%autoreload 2"
   ]
  },
  {
   "cell_type": "code",
   "execution_count": null,
   "metadata": {},
   "outputs": [],
   "source": [
    "import pandas as pd\n",
    "import numpy as np\n",
    "from morphomics.io.io import save_obj, load_obj\n",
    "from utils import load_toml, run_toml"
   ]
  },
  {
   "cell_type": "code",
   "execution_count": null,
   "metadata": {},
   "outputs": [],
   "source": [
    "parameters_filepath = \"f_pi_vae.toml\""
   ]
  },
  {
   "cell_type": "code",
   "execution_count": null,
   "metadata": {},
   "outputs": [],
   "source": [
    "import itertools\n",
    "import copy\n",
    "\n",
    "# Load initial parameters\n",
    "parameters = load_toml(parameters_filepath=parameters_filepath)\n",
    "\n",
    "# Update the dimred_method_parameters with default values\n",
    "parameters['Dim_reductions']['dimred_method_parameters'] = {\n",
    "    'pca': {\"n_components\": 50, \"svd_solver\": False, \"pca_version\": 'standard'},\n",
    "    'vae': {'nb_epochs': 100, 'batch_size': 32, 'optimizer':\"cocob\"}\n",
    "}\n",
    "\n",
    "# Additional parameters\n",
    "parameters[\"Dim_reductions\"][\"filter_pixels\"] = False\n",
    "parameters[\"Dim_reductions\"][\"save_dimreducer\"] = False\n",
    "parameters['Dim_reductions']['save_data'] = False\n",
    "\n",
    "# Define parameter grid for grid search\n",
    "param_grid = {\n",
    "    \"standardize\": [True, False],\n",
    "    \"vae.nn_layers\": [[64, 32, 16, 8], [32, 8]],\n",
    "    # \"vae.learning_rate\": [0.01, 0.001, 0.0001],\n",
    "    # \"vae.scheduler\": [True, False],\n",
    "    \"vae.batch_layer_norm\": [True, False]\n",
    "}\n",
    "\n",
    "# Generate all parameter combinations\n",
    "keys, values = zip(*param_grid.items())\n",
    "param_combinations = [dict(zip(keys, v)) for v in itertools.product(*values)]\n",
    "\n",
    "# Create a list to store all parameter configurations\n",
    "param_list = []\n",
    "\n",
    "# Apply each combination to the base parameters\n",
    "for combo in param_combinations:\n",
    "    # Create a deepcopy to avoid modifying the base parameters\n",
    "    new_params = copy.deepcopy(parameters)\n",
    "    \n",
    "    # Update the specific parameters\n",
    "    new_params[\"Dim_reductions\"][\"standardize\"] = combo[\"standardize\"]\n",
    "    new_params[\"Dim_reductions\"][\"dimred_method_parameters\"][\"vae\"][\"nn_layers\"] = combo[\"vae.nn_layers\"]\n",
    "    # new_params[\"Dim_reductions\"][\"dimred_method_parameters\"][\"vae\"][\"learning_rate\"] = combo[\"vae.learning_rate\"]\n",
    "    # new_params[\"Dim_reductions\"][\"dimred_method_parameters\"][\"vae\"][\"scheduler\"] = combo[\"vae.scheduler\"]\n",
    "    new_params[\"Dim_reductions\"][\"dimred_method_parameters\"][\"vae\"][\"batch_layer_norm\"] = combo[\"vae.batch_layer_norm\"]\n",
    "    \n",
    "    # Append the modified configuration to the list\n",
    "    param_list.append(new_params)\n",
    "\n",
    "# Now param_list contains all configurations\n",
    "print(f\"Generated {len(param_list)} parameter configurations.\")\n",
    "results_pca = {}\n",
    "for i, parameters in enumerate(param_list):\n",
    "    my_pipeline = run_toml(parameters=parameters) \n",
    "    \n",
    "    results_pca[str(i)] = [parameters, my_pipeline.metadata['mse'] ]"
   ]
  },
  {
   "cell_type": "code",
   "execution_count": null,
   "metadata": {},
   "outputs": [],
   "source": [
    "result_path1 = 'results/vae_hp/adam_pca'\n",
    "save_obj(results, result_path1)"
   ]
  },
  {
   "cell_type": "code",
   "execution_count": null,
   "metadata": {},
   "outputs": [],
   "source": [
    "# Sort dictionary items based on the tensor value (second element in the list)\n",
    "sorted_items = sorted(results.items(), key=lambda item: item[1][1].item(), reverse=True)\n",
    "\n",
    "# Select the top 10 entries\n",
    "top_10_items = dict(sorted_items[-10:])\n",
    "\n",
    "# Print the result\n",
    "print(top_10_items)"
   ]
  },
  {
   "cell_type": "code",
   "execution_count": null,
   "metadata": {},
   "outputs": [],
   "source": [
    "my_pipeline = run_toml(parameters=parameters_top1) "
   ]
  },
  {
   "cell_type": "code",
   "execution_count": null,
   "metadata": {},
   "outputs": [],
   "source": [
    "mf = my_pipeline.morphoframe['v1_pi_bt']\n",
    "z_mean = mf['vae']\n",
    "z_mean = np.vstack(z_mean)\n",
    "dim1 = \"dim_1\"\n",
    "dim2 = \"dim_2\"\n",
    "df = pd.DataFrame(z_mean[:,[0,1]], columns=[dim1, dim2])"
   ]
  },
  {
   "cell_type": "code",
   "execution_count": null,
   "metadata": {},
   "outputs": [],
   "source": [
    "conditions = mf[['Model', 'Sex']].apply(lambda x: '-'.join(x), axis=1)\n",
    "mf['conditions'] = conditions\n",
    "labels = sorted(conditions.unique())\n",
    "df['Label'] = mf['conditions']\n",
    "\n",
    "colors = {'1xKXA+SAFIT2_4h-F': 'rgb(100, 255, 100)',\n",
    " '1xKXA+SAFIT2_4h-M': 'rgb(0, 100, 0)',\n",
    "\n",
    " '1xKXA_4h-F': 'rgb(255, 50, 255)',\n",
    " '1xKXA_4h-M': 'rgb(50, 255, 255)',\n",
    "\n",
    " '1xSaline+SAFIT2_4h-F': 'rgb(255, 255, 100)',\n",
    " '1xSaline+SAFIT2_4h-M': 'rgb(150, 150, 0)',\n",
    "\n",
    " '1xSaline_4h-F': 'rgb(130, 130, 130)',\n",
    " '1xSaline_4h-M': 'rgb(20, 20, 20)'}"
   ]
  },
  {
   "cell_type": "code",
   "execution_count": null,
   "metadata": {},
   "outputs": [],
   "source": [
    "import plotly.express as px\n",
    "\n",
    "# Plot using plotly.express\n",
    "fig = px.scatter(df, x=dim1, y=dim2, color='Label', \n",
    "                 title=\"VAE latent space\",\n",
    "                 labels={'Label': 'Condition'},\n",
    "                 color_discrete_map=colors  # Apply custom color map\n",
    ")\n",
    "average_vectors = df.groupby('Label')[[dim1, dim2]].median().reset_index()\n",
    "\n",
    "import plotly.graph_objects as go\n",
    "\n",
    "fig.add_trace(\n",
    "    go.Scattergl(\n",
    "        x=average_vectors[dim1], \n",
    "        y=average_vectors[dim2], \n",
    "        mode='markers+text',  # Include text labels\n",
    "        marker=dict(\n",
    "            size=15,  # Larger marker size\n",
    "            color=average_vectors['Label'].map(colors),  # Map color based on condition\n",
    "            line=dict(width=2, color='black')  # Optional: black outline for clarity\n",
    "        ),\n",
    "        text=None,  # Set the text to the extracted labels\n",
    "        textposition='top center',  # Position of the labels\n",
    "        name='Median',\n",
    "    )\n",
    ")\n",
    "\n",
    "# Optional: Customize the layout further if needed\n",
    "fig.update_layout(\n",
    "    showlegend=True\n",
    ")\n",
    "\n",
    "fig.show()\n"
   ]
  }
 ],
 "metadata": {
  "kernelspec": {
   "display_name": "morpho_exp",
   "language": "python",
   "name": "python3"
  },
  "language_info": {
   "codemirror_mode": {
    "name": "ipython",
    "version": 3
   },
   "file_extension": ".py",
   "mimetype": "text/x-python",
   "name": "python",
   "nbconvert_exporter": "python",
   "pygments_lexer": "ipython3",
   "version": "3.9.19"
  }
 },
 "nbformat": 4,
 "nbformat_minor": 2
}
