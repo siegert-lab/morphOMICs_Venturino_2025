{
 "cells": [
  {
   "cell_type": "code",
   "execution_count": 1,
   "metadata": {},
   "outputs": [],
   "source": [
    "%load_ext autoreload\n",
    "%autoreload 2"
   ]
  },
  {
   "cell_type": "code",
   "execution_count": null,
   "metadata": {},
   "outputs": [],
   "source": [
    "import pandas as pd\n",
    "import numpy as np\n",
    "from morphomics.io.io import save_obj, load_obj\n",
    "import torch as th"
   ]
  },
  {
   "cell_type": "code",
   "execution_count": 48,
   "metadata": {},
   "outputs": [],
   "source": [
    "path_to_pi = \"results/vectorization/Morphomics.PID_v1_l.pi_100_filtered\"\n",
    "mf = load_obj(path_to_pi)\n",
    "pis = np.stack(mf['pi'])"
   ]
  },
  {
   "cell_type": "code",
   "execution_count": 49,
   "metadata": {},
   "outputs": [],
   "source": [
    "mf_kxa = mf[mf['Model'].isin(['1xSaline_4h', '1xKXA _4h'])]\n",
    "pis_kxa = np.stack(mf_kxa['pi'])"
   ]
  },
  {
   "cell_type": "code",
   "execution_count": 50,
   "metadata": {},
   "outputs": [
    {
     "name": "stderr",
     "output_type": "stream",
     "text": [
      "/home/thomas/miniconda3/envs/morpho_exp/lib/python3.9/site-packages/sklearn/base.py:348: InconsistentVersionWarning: Trying to unpickle estimator StandardScaler from version 1.5.2 when using version 1.3.2. This might lead to breaking code or invalid results. Use at your own risk. For more info please refer to:\n",
      "https://scikit-learn.org/stable/model_persistence.html#security-maintainability-limitations\n",
      "  warnings.warn(\n",
      "/home/thomas/miniconda3/envs/morpho_exp/lib/python3.9/site-packages/sklearn/base.py:348: InconsistentVersionWarning: Trying to unpickle estimator PCA from version 1.5.2 when using version 1.3.2. This might lead to breaking code or invalid results. Use at your own risk. For more info please refer to:\n",
      "https://scikit-learn.org/stable/model_persistence.html#security-maintainability-limitations\n",
      "  warnings.warn(\n"
     ]
    }
   ],
   "source": [
    "path_to_model_params = '/home/thomas/Desktop/morphomics_exp_v1/results/model/vae'\n",
    "vae_params = load_obj(path_to_model_params)"
   ]
  },
  {
   "cell_type": "code",
   "execution_count": 56,
   "metadata": {},
   "outputs": [
    {
     "name": "stdout",
     "output_type": "stream",
     "text": [
      "3649 pixels to keep over 10000\n"
     ]
    }
   ],
   "source": [
    "from morphomics.persistent_homology.pi_transformations import filter_pi_list\n",
    "pis_filtered, tokeep = filter_pi_list(pis_kxa, tokeep = None, std_threshold = 0.1e-4)\n"
   ]
  },
  {
   "cell_type": "code",
   "execution_count": null,
   "metadata": {},
   "outputs": [],
   "source": [
    "pis = np.vstack(mf['pi'])\n",
    "print(mf.keys())\n",
    "# Filtering\n",
    "threshold = 1e-5\n",
    "\n",
    "X_filter, tokeep = local_utils.filter_image(pis, std_threshold=threshold)"
   ]
  },
  {
   "cell_type": "code",
   "execution_count": 12,
   "metadata": {},
   "outputs": [],
   "source": [
    "threshold = vae_params['threshold']\n",
    "standardize = vae_params['standardizer']\n",
    "fit_pca = vae_params['pca']\n",
    "trained_model = vae_params['vae']"
   ]
  },
  {
   "cell_type": "code",
   "execution_count": 15,
   "metadata": {},
   "outputs": [
    {
     "data": {
      "text/plain": [
       "(50, 3681)"
      ]
     },
     "execution_count": 15,
     "metadata": {},
     "output_type": "execute_result"
    }
   ],
   "source": [
    "fit_pca.components_.shape"
   ]
  },
  {
   "cell_type": "code",
   "execution_count": null,
   "metadata": {},
   "outputs": [],
   "source": [
    "# STD\n",
    "X_filter_st = standardize.transform(X_filter)\n",
    "# PCA\n",
    "X_pca = fit_pca.transform(X = X_filter_st)\n",
    "X_pca = th.tensor(X_pca, dtype=th.float32)\n"
   ]
  },
  {
   "cell_type": "code",
   "execution_count": null,
   "metadata": {},
   "outputs": [],
   "source": [
    "pred, z_mean, z_log_var, mse = train_test.vae_test(data = X_pca,\n",
    "                                                model = trained_model, \n",
    "                                                sample_size = 3,\n",
    "                                               )"
   ]
  },
  {
   "cell_type": "code",
   "execution_count": null,
   "metadata": {},
   "outputs": [],
   "source": [
    "import plotly.express as px\n",
    "import numpy as np\n",
    "\n",
    "# Create a DataFrame for easier plotting (optional, but recommended)\n",
    "import pandas as pd\n",
    "conditions = mf[['Model', 'Sex']].apply(lambda x: '-'.join(x), axis=1)\n",
    "mf['conditions'] = conditions\n",
    "labels = sorted(conditions.unique())\n",
    "\n",
    "colors = {}\n",
    "rgb_list = [\n",
    "    'rgb(255, 50, 255)',   # Magenta shade\n",
    "    'rgb(50, 255, 255)',   # Cyan shade\n",
    "    'rgb(130, 130, 130)',  # Light grey shade\n",
    "    'rgb(20, 20, 20)'      # Dark grey shade\n",
    "]\n",
    "for label, rgb in zip(labels, rgb_list):\n",
    "    colors[label] = rgb\n",
    "\n",
    "df = pd.DataFrame(z_mean[:,[0,1]], columns=['zx', 'zy'])\n",
    "df['Label'] = mf['conditions']\n",
    "\n",
    "# Plot using plotly.express\n",
    "fig = px.scatter(df, x='zx', y='zy', color='Label', \n",
    "                 title=\"2D Scatter Plot with Labels\",\n",
    "                 labels={'Label': 'Condition'},\n",
    "                 color_discrete_map=colors  # Apply custom color map\n",
    ")\n",
    "average_vectors = df.groupby('Label')[['zx', 'zy']].median().reset_index()\n",
    "\n",
    "import plotly.graph_objects as go\n",
    "\n",
    "fig.add_trace(\n",
    "    go.Scattergl(\n",
    "        x=average_vectors['zx'], \n",
    "        y=average_vectors['zy'], \n",
    "        mode='markers+text',  # Include text labels\n",
    "        marker=dict(\n",
    "            size=15,  # Larger marker size\n",
    "            color=average_vectors['Label'].map(colors),  # Map color based on condition\n",
    "            line=dict(width=2, color='black')  # Optional: black outline for clarity\n",
    "        ),\n",
    "        text=None,  # Set the text to the extracted labels\n",
    "        textposition='top center',  # Position of the labels\n",
    "        name='Median',\n",
    "    )\n",
    ")\n",
    "\n",
    "# Optional: Customize the layout further if needed\n",
    "fig.update_layout(\n",
    "    showlegend=True\n",
    ")\n",
    "\n",
    "fig.show()\n"
   ]
  }
 ],
 "metadata": {
  "kernelspec": {
   "display_name": "morpho_exp",
   "language": "python",
   "name": "python3"
  },
  "language_info": {
   "codemirror_mode": {
    "name": "ipython",
    "version": 3
   },
   "file_extension": ".py",
   "mimetype": "text/x-python",
   "name": "python",
   "nbconvert_exporter": "python",
   "pygments_lexer": "ipython3",
   "version": "3.9.19"
  }
 },
 "nbformat": 4,
 "nbformat_minor": 2
}
