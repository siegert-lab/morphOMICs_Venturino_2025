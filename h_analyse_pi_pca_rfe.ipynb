{
 "cells": [
  {
   "cell_type": "code",
   "execution_count": null,
   "metadata": {},
   "outputs": [],
   "source": [
    "%load_ext autoreload\n",
    "%autoreload 2"
   ]
  },
  {
   "cell_type": "code",
   "execution_count": null,
   "metadata": {},
   "outputs": [],
   "source": [
    "import numpy as np\n",
    "import pandas as pd\n",
    "from scipy.spatial.distance import pdist, squareform\n",
    "import matplotlib.pyplot as plt\n",
    "import matplotlib.colors as mcolors\n",
    "import plotly.express as px\n",
    "\n",
    "from morphomics.io.io import save_obj, load_obj\n",
    "from utils import load_toml, run_toml, get_2d, mask_pi, get_base\n",
    "\n",
    "from plot import plot_2d, plot_pi, plot_dist_matrix"
   ]
  },
  {
   "cell_type": "code",
   "execution_count": null,
   "metadata": {},
   "outputs": [],
   "source": [
    "path = 'results/vae/trained_vae'\n",
    "my_pip = load_obj(path)\n",
    "vae_pip = my_pip.metadata\n",
    "mf = my_pip.morphoframe['v1_pi']\n",
    "# Reset index and store the old index in a new column\n",
    "mf = mf.reset_index()  # Resets the index and adds the old index as a column\n",
    "# Rename the old index column to 'old_idcs'\n",
    "mf.rename(columns={'index': 'old_idcs'}, inplace=True)\n",
    "pis = mf['pi']\n",
    "pi_example = pis.iloc[0]"
   ]
  },
  {
   "cell_type": "code",
   "execution_count": null,
   "metadata": {},
   "outputs": [],
   "source": [
    "def get_base(pi, pixes_tokeep):\n",
    "    pi_full = np.zeros_like(pi_example)\n",
    "    pi_full[pixes_tokeep] = pi\n",
    "    return pi_full"
   ]
  },
  {
   "cell_type": "markdown",
   "metadata": {},
   "source": [
    "# Plot one example"
   ]
  },
  {
   "cell_type": "code",
   "execution_count": null,
   "metadata": {},
   "outputs": [],
   "source": [
    "plot_pi(pi_example)"
   ]
  },
  {
   "cell_type": "markdown",
   "metadata": {},
   "source": [
    "# Check link to number of branches"
   ]
  },
  {
   "cell_type": "code",
   "execution_count": null,
   "metadata": {},
   "outputs": [],
   "source": [
    "mf[\"pi_area\"] = mf['pi'].apply(lambda pi: pi.sum())\n",
    "fig = px.scatter(mf, x='nb_bars', y='pi_area')\n",
    "fig.show()"
   ]
  },
  {
   "cell_type": "markdown",
   "metadata": {},
   "source": [
    "# Distance Matrix of PI"
   ]
  },
  {
   "cell_type": "code",
   "execution_count": null,
   "metadata": {},
   "outputs": [],
   "source": [
    "# Create a new column for the condition (Model + Sex)\n",
    "mf['Condition'] = mf['Model'] + \"-\" + mf['Sex']\n",
    "# Sort by condition\n",
    "mf_sorted = mf.sort_values(by='Condition').reset_index(drop=True)"
   ]
  },
  {
   "cell_type": "code",
   "execution_count": null,
   "metadata": {},
   "outputs": [],
   "source": [
    "# Extract vectors\n",
    "pi_vectors = np.vstack(mf_sorted['pi'].values)  # Convert list of arrays to 2D array\n",
    "# Compute pairwise Euclidean distance matrix\n",
    "distance_matrix = squareform(pdist(pi_vectors, metric='euclidean'))\n",
    "plot_dist_matrix(mf_sorted, distance_matrix)\n"
   ]
  },
  {
   "cell_type": "code",
   "execution_count": null,
   "metadata": {},
   "outputs": [],
   "source": [
    "# Step 1: Compute the mean over each row\n",
    "row_means = distance_matrix.mean(axis=1)\n",
    "plt.plot(row_means)"
   ]
  },
  {
   "cell_type": "markdown",
   "metadata": {},
   "source": [
    "# Analyse of the far PI"
   ]
  },
  {
   "cell_type": "code",
   "execution_count": null,
   "metadata": {},
   "outputs": [],
   "source": [
    "# Step 2: Get the indices of the top 5 maximum values\n",
    "far_top_5_idx = np.argsort(row_means)[-5:][::-1]  # Sort and take the top 5 indices (in descending order)\n",
    "\n",
    "print(\"Indices of the top 5 maximum values:\", far_top_5_idx)\n",
    "print(row_means[far_top_5_idx])"
   ]
  },
  {
   "cell_type": "code",
   "execution_count": null,
   "metadata": {},
   "outputs": [],
   "source": [
    "far_mf = mf_sorted.iloc[far_top_5_idx]"
   ]
  },
  {
   "cell_type": "code",
   "execution_count": null,
   "metadata": {},
   "outputs": [],
   "source": [
    "from morphomics.view.view import neuron\n",
    "for i, row in far_mf.iterrows():\n",
    "    neuron(row['cells'])\n",
    "    plot_pi(row['pi'])\n",
    "    print(row['nb_bars'])"
   ]
  },
  {
   "cell_type": "code",
   "execution_count": null,
   "metadata": {},
   "outputs": [],
   "source": [
    "far_mf"
   ]
  },
  {
   "cell_type": "code",
   "execution_count": null,
   "metadata": {},
   "outputs": [],
   "source": [
    "small_top_5_idx = np.argsort(list(mf_sorted['nb_bars']))[:5] \n",
    "little_top_5_idx = np.argsort(list(mf_sorted['max_length_bar']))[:5]  # Sort and take the top 5 indices (in descending order)\n",
    " # Sort and take the top 5 indices (in descending order)\n",
    "print('mg with less bars')\n",
    "print(mf_sorted['nb_bars'].iloc[small_top_5_idx])\n",
    "print('')\n",
    "print('mg with smallest bars')\n",
    "print(mf_sorted['max_length_bar'].iloc[little_top_5_idx])\n",
    "print('')\n",
    "print('mg with far pi')\n",
    "print(far_mf[['nb_bars','max_length_bar']])\n"
   ]
  },
  {
   "cell_type": "code",
   "execution_count": null,
   "metadata": {},
   "outputs": [],
   "source": [
    "mf_sorted_f = mf_sorted[mf_sorted['Sex']=='F'].reset_index(drop=True)\n",
    "# Extract vectors\n",
    "pi_vectors_f = np.vstack(mf_sorted_f['pi'].values)  # Convert list of arrays to 2D array\n",
    "# Compute pairwise Euclidean distance matrix\n",
    "distance_matrix_f = squareform(pdist(pi_vectors_f, metric='euclidean'))\n",
    "plot_dist_matrix(mf_sorted_f, distance_matrix_f)"
   ]
  },
  {
   "cell_type": "code",
   "execution_count": null,
   "metadata": {},
   "outputs": [],
   "source": [
    "row_means_f = distance_matrix_f.mean(axis=1)\n",
    "plt.plot(row_means_f)\n",
    "print(np.median(row_means_f))"
   ]
  },
  {
   "cell_type": "code",
   "execution_count": null,
   "metadata": {},
   "outputs": [],
   "source": [
    "mf_sorted_m = mf_sorted[mf_sorted['Sex']=='M'].reset_index(drop=True)\n",
    "# Extract vectors\n",
    "pi_vectors_m = np.vstack(mf_sorted_m['pi'].values)  # Convert list of arrays to 2D array\n",
    "# Compute pairwise Euclidean distance matrix\n",
    "distance_matrix_m = squareform(pdist(pi_vectors_m, metric='euclidean'))\n",
    "plot_dist_matrix(mf_sorted_m, distance_matrix_m)\n"
   ]
  },
  {
   "cell_type": "code",
   "execution_count": null,
   "metadata": {},
   "outputs": [],
   "source": [
    "row_means_m = distance_matrix_m.mean(axis=1)\n",
    "plt.plot(row_means_m)\n",
    "print(np.median(row_means_m))"
   ]
  },
  {
   "cell_type": "markdown",
   "metadata": {},
   "source": [
    "# Apply Threshold"
   ]
  },
  {
   "cell_type": "code",
   "execution_count": null,
   "metadata": {},
   "outputs": [],
   "source": [
    "pixes_tokeep = vae_pip['pixes_tokeep']\n",
    "pis_threshold = pis.apply(lambda pi: mask_pi(pi, pixes_tokeep)[0])\n",
    "pis_filtered = pis.apply(lambda pi: mask_pi(pi, pixes_tokeep)[1])"
   ]
  },
  {
   "cell_type": "code",
   "execution_count": null,
   "metadata": {},
   "outputs": [],
   "source": [
    "pi_th_example = pis_threshold.iloc[0]\n",
    "\n",
    "plot_pi(pi_th_example, is_log = False)"
   ]
  },
  {
   "cell_type": "markdown",
   "metadata": {},
   "source": [
    "# Apply Scaler"
   ]
  },
  {
   "cell_type": "code",
   "execution_count": null,
   "metadata": {},
   "outputs": [],
   "source": [
    "standardizer = vae_pip['standardizer']\n",
    "pis_filtered_arr = np.vstack(pis_filtered)\n",
    "pis_scaled = standardizer.transform(pis_filtered_arr)"
   ]
  },
  {
   "cell_type": "code",
   "execution_count": null,
   "metadata": {},
   "outputs": [],
   "source": [
    "pi_scaled_full_example = get_base(pis_scaled[0], pixes_tokeep)\n",
    "plot_pi(pi_scaled_full_example, is_log = False)"
   ]
  },
  {
   "cell_type": "markdown",
   "metadata": {},
   "source": [
    "# Apply PCA"
   ]
  },
  {
   "cell_type": "code",
   "execution_count": null,
   "metadata": {},
   "outputs": [],
   "source": [
    "pca = vae_pip['fitted_pca_vae'][0]"
   ]
  },
  {
   "cell_type": "code",
   "execution_count": null,
   "metadata": {},
   "outputs": [],
   "source": [
    "pis_pca = pca.transform(pis_scaled)"
   ]
  },
  {
   "cell_type": "markdown",
   "metadata": {},
   "source": [
    "plot the pca "
   ]
  },
  {
   "cell_type": "code",
   "execution_count": null,
   "metadata": {},
   "outputs": [],
   "source": [
    "mf_pca = mf[['Layer', 'Model', 'Sex']]"
   ]
  },
  {
   "cell_type": "code",
   "execution_count": null,
   "metadata": {},
   "outputs": [],
   "source": [
    "pis_pca_2d = pis_pca[:,[0,1]]\n",
    "mf_pca['pi_pca_2d'] = list(pis_pca_2d)\n",
    "plot_2d(mf_pca, 'pi_pca_2d', title = 'pca pi', conditions = ['Model', 'Sex'], name = None)"
   ]
  },
  {
   "cell_type": "code",
   "execution_count": null,
   "metadata": {},
   "outputs": [],
   "source": [
    "pis_pca_2d = pis_pca[:,[1,2]]\n",
    "mf_pca['pi_pca_2d'] = list(pis_pca_2d)\n",
    "plot_2d(mf_pca, 'pi_pca_2d', title = 'pca pi', conditions = ['Model', 'Sex'], name = None)"
   ]
  },
  {
   "cell_type": "markdown",
   "metadata": {},
   "source": [
    "explained variance per pc"
   ]
  },
  {
   "cell_type": "code",
   "execution_count": null,
   "metadata": {},
   "outputs": [],
   "source": [
    "# Assuming `pca` is your fitted PCA model (e.g., from sklearn.decomposition.PCA)\n",
    "explained_variance_ratio = pca.explained_variance_ratio_\n",
    "\n",
    "# Cumulative variance explained by the first 20 PCs\n",
    "cumulative_variance_64 = np.sum(explained_variance_ratio[:64])\n",
    "\n",
    "print(f\"Variance explained by the first 64 PCs: {cumulative_variance_64:.4f}\")\n"
   ]
  },
  {
   "cell_type": "code",
   "execution_count": null,
   "metadata": {},
   "outputs": [],
   "source": [
    "plt.figure(figsize=(8, 5))\n",
    "plt.plot(np.cumsum(explained_variance_ratio)[:64], marker='o', linestyle='--', label='Cumulative Variance')\n",
    "plt.xlabel('Number of Principal Components')\n",
    "plt.ylabel('Cumulative Explained Variance')\n",
    "plt.title('Explained Variance by PCA Components')\n",
    "plt.grid()\n",
    "plt.legend()\n",
    "plt.show()"
   ]
  },
  {
   "cell_type": "markdown",
   "metadata": {},
   "source": [
    "pc selection"
   ]
  },
  {
   "cell_type": "code",
   "execution_count": null,
   "metadata": {},
   "outputs": [],
   "source": [
    "mf_pca['pi_pca'] = list(pis_pca)\n",
    "mf_pca['Condition'] = mf['Condition']\n",
    "mf_pca_kxa = mf_pca[mf_pca['Model'].isin(['1xKXA_4h', '1xSaline_4h'])]"
   ]
  },
  {
   "cell_type": "code",
   "execution_count": null,
   "metadata": {},
   "outputs": [],
   "source": [
    "from sklearn.ensemble import RandomForestClassifier\n",
    "from sklearn.svm import SVC\n",
    "from sklearn.model_selection import StratifiedShuffleSplit\n",
    "from sklearn.preprocessing import LabelEncoder\n",
    "from sklearn.feature_selection import RFE\n",
    "\n",
    "# Extract features and target variable\n",
    "X = np.array(mf_pca_kxa['pi_pca'].to_list())  # 64 features in each row\n",
    "y = mf_pca_kxa['Condition']\n",
    "\n",
    "# Encode the target labels\n",
    "label_encoder = LabelEncoder()\n",
    "y_encoded = label_encoder.fit_transform(y)\n",
    "\n",
    "# Initialize models\n",
    "rf = RandomForestClassifier(random_state=42)\n",
    "svm = SVC(kernel='linear', random_state=42)\n",
    "\n",
    "# Cross-validation setup: 20 trials with 75% training / 25% testing\n",
    "sss = StratifiedShuffleSplit(n_splits=20, test_size=0.25, random_state=42)"
   ]
  },
  {
   "cell_type": "code",
   "execution_count": null,
   "metadata": {},
   "outputs": [],
   "source": [
    "# Function to calculate feature importance for RandomForest\n",
    "def get_rf_importance(model, X_train, y_train):\n",
    "    model.fit(X_train, y_train)\n",
    "    return model.feature_importances_\n",
    "\n",
    "\n",
    "# Function to calculate RFE and get top features\n",
    "def get_rfe_top_features(model, X, y, n_features_to_select=10):\n",
    "    rfe = RFE(estimator=model, n_features_to_select=n_features_to_select)\n",
    "    rfe.fit(X, y)\n",
    "    return rfe.support_, rfe.ranking_"
   ]
  },
  {
   "cell_type": "code",
   "execution_count": null,
   "metadata": {},
   "outputs": [],
   "source": [
    "# Initialize lists to store accuracy and feature importances\n",
    "rf_accuracies = []\n",
    "rf_importances = []\n",
    "# Perform the 20 trials\n",
    "for train_idx, test_idx in sss.split(X, y_encoded):\n",
    "    X_train, X_test = X[train_idx], X[test_idx]\n",
    "    y_train, y_test = y_encoded[train_idx], y_encoded[test_idx]\n",
    "    \n",
    "    # Train and evaluate RandomForest\n",
    "    rf.fit(X_train, y_train)\n",
    "    rf_pred = rf.predict(X_test)\n",
    "    rf_accuracy = np.mean(rf_pred == y_test)\n",
    "    rf_accuracies.append(rf_accuracy)\n",
    "    rf_importances.append(rf.feature_importances_)\n",
    "\n",
    "# Get average accuracy across all trials\n",
    "rf_avg_accuracy = np.mean(rf_accuracies)\n",
    "\n",
    "# Get average feature importance across all trials\n",
    "rf_avg_importance = np.mean(rf_importances, axis=0)\n",
    "# Get sorted indices based on importance (descending)\n",
    "rf_sorted_idx = np.argsort(rf_avg_importance)[::-1]"
   ]
  },
  {
   "cell_type": "code",
   "execution_count": null,
   "metadata": {},
   "outputs": [],
   "source": [
    "# Get RFE top features\n",
    "rf_rfe_support, rf_rfe_ranking = get_rfe_top_features(rf, X, y_encoded)\n"
   ]
  },
  {
   "cell_type": "code",
   "execution_count": null,
   "metadata": {},
   "outputs": [],
   "source": [
    "\n",
    "# Print feature importances and accuracies\n",
    "print(\"Top 10 Features Based on Average Importance:\")\n",
    "\n",
    "print(\"\\nRandom Forest Feature Importance (Top 10):\")\n",
    "for idx in rf_sorted_idx[:10]:\n",
    "    print(f\"Feature {idx} with importance: {rf_avg_importance[idx]}\")\n",
    "print(f\"Random Forest Accuracy: {rf_avg_accuracy * 100:.2f}%\\n\")\n",
    "\n",
    "# Print RFE selected features\n",
    "print(\"\\nTop 10 Features Based on RFE:\")\n",
    "\n",
    "print(\"Random Forest RFE Selected Features:\")\n",
    "rf_rfe_selected = np.where(rf_rfe_support)[0]\n",
    "print(f\"Selected Features: {rf_rfe_selected}\")\n",
    "\n",
    "\n",
    "# Optional: Display bar charts for feature importance\n",
    "plt.figure(figsize=(12, 6))\n",
    "\n",
    "# Random Forest\n",
    "plt.bar(range(len(rf_avg_importance)), rf_avg_importance[rf_sorted_idx])\n",
    "plt.xticks(range(len(rf_avg_importance)), rf_sorted_idx, rotation=90)\n",
    "plt.title('Random Forest Feature Importance')\n",
    "\n",
    "plt.tight_layout()\n",
    "plt.show()\n"
   ]
  },
  {
   "cell_type": "markdown",
   "metadata": {},
   "source": [
    "plot weight pcs (load)"
   ]
  },
  {
   "cell_type": "code",
   "execution_count": null,
   "metadata": {},
   "outputs": [],
   "source": [
    "###  rf_rfe_selected or rf_sorted_idx or svm_rfe_selected\n",
    "\n",
    "# Get the PCA components (eigenvectors)\n",
    "loadings = pca.components_  # Shape: (n_components, n_features)\n",
    "\n",
    "# If feature names are available\n",
    "feature_names = [f'Feature{i+1}' for i in range(loadings.shape[1])]  # Replace with actual feature names if available\n",
    "\n",
    "# Convert to a DataFrame for better readability\n",
    "pc_load_df = pd.DataFrame(loadings, columns=feature_names, index=[f'PC{i+1}' for i in range(len(loadings))])"
   ]
  },
  {
   "cell_type": "code",
   "execution_count": null,
   "metadata": {},
   "outputs": [],
   "source": [
    "for i in rf_sorted_idx[:5]:\n",
    "    pc_load_i_full = get_base(pc_load_df.iloc[i], pixes_tokeep)\n",
    "    plot_pi(pc_load_i_full, is_log = False)"
   ]
  },
  {
   "cell_type": "markdown",
   "metadata": {},
   "source": [
    "# UMAP with best features (PCs)\n"
   ]
  },
  {
   "cell_type": "markdown",
   "metadata": {},
   "source": [
    "only kxa"
   ]
  },
  {
   "cell_type": "code",
   "execution_count": null,
   "metadata": {},
   "outputs": [],
   "source": [
    "#  rf_rfe_selected or rf_sorted_idx or svm_rfe_selected\n",
    "selected_pcs = rf_rfe_selected\n",
    "k = 8"
   ]
  },
  {
   "cell_type": "code",
   "execution_count": null,
   "metadata": {},
   "outputs": [],
   "source": [
    "mf_pca_kxa['pipcaselected'] = mf_pca_kxa['pi_pca'].apply(lambda vec: vec[selected_pcs[:k]])\n",
    "parameters_filepath = \"h_pca_umap.toml\"\n",
    "parameters = load_toml(parameters_filepath=parameters_filepath)\n",
    "my_pip_kxa = run_toml(parameters=parameters, morphoframe = {'v1_pi_pca_umap': mf_pca_kxa}) "
   ]
  },
  {
   "cell_type": "code",
   "execution_count": null,
   "metadata": {},
   "outputs": [],
   "source": [
    "plot_2d(df = my_pip_kxa.morphoframe['v1_pi_pca_umap'],\n",
    "         feature = 'umap', \n",
    "         title = 'pi umap best pcs', \n",
    "         conditions = ['Model', 'Sex'], \n",
    "         name = None)"
   ]
  },
  {
   "cell_type": "markdown",
   "metadata": {},
   "source": [
    "full"
   ]
  },
  {
   "cell_type": "code",
   "execution_count": null,
   "metadata": {},
   "outputs": [],
   "source": [
    "mf_pca['pipcaselected'] = mf_pca['pi_pca'].apply(lambda vec: vec[selected_pcs[:k]])\n",
    "parameters_filepath = \"h_pca_umap.toml\"\n",
    "parameters = load_toml(parameters_filepath=parameters_filepath)\n",
    "my_pip_full = run_toml(parameters=parameters, morphoframe = {'v1_pi_pca_umap': mf_pca}) "
   ]
  },
  {
   "cell_type": "code",
   "execution_count": null,
   "metadata": {},
   "outputs": [],
   "source": [
    "plot_2d(df = my_pip_full.morphoframe['v1_pi_pca_umap'],\n",
    "         feature = 'umap', \n",
    "         title = 'pi umap best pcs', \n",
    "         conditions = ['Model', 'Sex'], \n",
    "         name = None)"
   ]
  }
 ],
 "metadata": {
  "kernelspec": {
   "display_name": "morpho_exp",
   "language": "python",
   "name": "python3"
  },
  "language_info": {
   "codemirror_mode": {
    "name": "ipython",
    "version": 3
   },
   "file_extension": ".py",
   "mimetype": "text/x-python",
   "name": "python",
   "nbconvert_exporter": "python",
   "pygments_lexer": "ipython3",
   "version": "3.9.19"
  }
 },
 "nbformat": 4,
 "nbformat_minor": 2
}
