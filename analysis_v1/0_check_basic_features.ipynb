{
 "cells": [
  {
   "cell_type": "code",
   "execution_count": null,
   "metadata": {},
   "outputs": [],
   "source": [
    "%load_ext autoreload\n",
    "%autoreload 2"
   ]
  },
  {
   "cell_type": "code",
   "execution_count": null,
   "metadata": {},
   "outputs": [],
   "source": [
    "from morphomics.io.io import load_obj, save_obj\n",
    "from morphomics.persistent_homology.ph_analysis import get_lengths\n",
    "from kxa_analysis import plot_hist\n",
    "from morphomics.view.view import neuron\n",
    "from morphomics import pipeline"
   ]
  },
  {
   "cell_type": "code",
   "execution_count": null,
   "metadata": {},
   "outputs": [],
   "source": [
    "mf_path = 'results/vectorization/Morphomics.PID_v1.pi_lm'\n",
    "mf = load_obj(mf_path)\n",
    "mf.groupby(['Model', 'Sex']).size()"
   ]
  },
  {
   "cell_type": "code",
   "execution_count": null,
   "metadata": {},
   "outputs": [],
   "source": [
    "len(mf)"
   ]
  },
  {
   "cell_type": "code",
   "execution_count": null,
   "metadata": {},
   "outputs": [],
   "source": [
    "import numpy as np\n",
    "import pandas as pd\n",
    "\n",
    "def find_fuzzy_duplicate_indices(df, column='Model', tolerance=0.1):\n",
    "    n = len(df)\n",
    "    duplicates_list = [[] for _ in range(n)]\n",
    "\n",
    "    for i in range(n):\n",
    "        arr_i = df.at[i, column]\n",
    "        for j in range(n):\n",
    "            if i != j:\n",
    "                arr_j = df.at[j, column]\n",
    "                \n",
    "                # Check shape first\n",
    "                if arr_i.shape == arr_j.shape:\n",
    "                    # Check element-wise closeness\n",
    "                    if np.allclose(arr_i, arr_j, rtol=0, atol=tolerance):\n",
    "                        duplicates_list[i].append(j)\n",
    "\n",
    "    return duplicates_list\n"
   ]
  },
  {
   "cell_type": "code",
   "execution_count": null,
   "metadata": {},
   "outputs": [],
   "source": [
    "mf['DuplicateIndices'] = find_fuzzy_duplicate_indices(mf, column='barcodes', tolerance=0.1)\n"
   ]
  },
  {
   "cell_type": "code",
   "execution_count": null,
   "metadata": {},
   "outputs": [],
   "source": [
    "def remove_higher_index_duplicates(df, duplicate_col='DuplicateIndices'):\n",
    "    # Collect all indices to drop\n",
    "    indices_to_drop = set()\n",
    "    \n",
    "    for i, duplicates in df[duplicate_col].items():\n",
    "        for dup_idx in duplicates:\n",
    "            if dup_idx > i:\n",
    "                indices_to_drop.add(dup_idx)\n",
    "\n",
    "    # Drop those indices and reset index\n",
    "    df_cleaned = df.drop(index=indices_to_drop).reset_index(drop=True)\n",
    "    return df_cleaned\n"
   ]
  },
  {
   "cell_type": "code",
   "execution_count": null,
   "metadata": {},
   "outputs": [],
   "source": [
    "mf_cleaned = remove_higher_index_duplicates(mf, duplicate_col='DuplicateIndices')\n"
   ]
  },
  {
   "cell_type": "code",
   "execution_count": null,
   "metadata": {},
   "outputs": [],
   "source": [
    "len(mf_cleaned)"
   ]
  },
  {
   "cell_type": "code",
   "execution_count": null,
   "metadata": {},
   "outputs": [],
   "source": [
    "mf_path = 'results/vectorization/Morphomics.PID_v1.pi_lm'\n",
    "save_obj(mf_cleaned, mf_path)"
   ]
  },
  {
   "cell_type": "code",
   "execution_count": null,
   "metadata": {},
   "outputs": [],
   "source": [
    "mf.iloc[0]"
   ]
  },
  {
   "cell_type": "code",
   "execution_count": null,
   "metadata": {},
   "outputs": [],
   "source": [
    "mf.iloc[56]"
   ]
  },
  {
   "cell_type": "code",
   "execution_count": null,
   "metadata": {},
   "outputs": [],
   "source": [
    "mf.iloc[:-100]"
   ]
  },
  {
   "cell_type": "code",
   "execution_count": null,
   "metadata": {},
   "outputs": [],
   "source": [
    "mf.keys()"
   ]
  },
  {
   "cell_type": "code",
   "execution_count": null,
   "metadata": {},
   "outputs": [],
   "source": [
    "mf_path = 'results/vectorization/Morphomics.PID_v1.pi_lm'\n",
    "mf = load_obj(mf_path)\n",
    "print(len(mf))\n",
    "mf.groupby(['Model', 'Sex']).size()"
   ]
  },
  {
   "cell_type": "code",
   "execution_count": null,
   "metadata": {},
   "outputs": [],
   "source": [
    "len(mf)"
   ]
  },
  {
   "cell_type": "code",
   "execution_count": null,
   "metadata": {},
   "outputs": [],
   "source": [
    "my_pip = pipeline.Pipeline(Parameters_ID='lm_test', morphoframe={'lm_test':mf}, \n",
    "                           parameters={'Morphometrics':{\"concatenate\" : True,\n",
    "                                                        \"morphoframe_name\":\"lm_test\"}})"
   ]
  },
  {
   "cell_type": "code",
   "execution_count": null,
   "metadata": {},
   "outputs": [],
   "source": [
    "my_pip.Morphometrics()"
   ]
  },
  {
   "cell_type": "code",
   "execution_count": null,
   "metadata": {},
   "outputs": [],
   "source": [
    "mf_clean = mf.drop(mf.loc[mf['file_path'] == '../data_v1/All_Layers/1xKXA+SAFIT2_4h/M/BL6_M_KXA+SAFIT2_VGLUT2488_IBA568_CD68647_DAPI_V1_3/Filament_001_Filaments1_Trace_0023_nl_corrected.swc'].index)\n"
   ]
  },
  {
   "cell_type": "code",
   "execution_count": null,
   "metadata": {},
   "outputs": [],
   "source": [
    "mf.keys()"
   ]
  },
  {
   "cell_type": "code",
   "execution_count": null,
   "metadata": {},
   "outputs": [],
   "source": [
    "mf.groupby(['Model', 'Sex']).size()"
   ]
  },
  {
   "cell_type": "markdown",
   "metadata": {},
   "source": [
    "Check conditions"
   ]
  },
  {
   "cell_type": "code",
   "execution_count": null,
   "metadata": {},
   "outputs": [],
   "source": [
    "unique_combinations = mf[['Layer', 'Model', 'Sex']].drop_duplicates()\n",
    "print(unique_combinations)\n"
   ]
  },
  {
   "cell_type": "markdown",
   "metadata": {},
   "source": [
    "Transform cells into trees"
   ]
  },
  {
   "cell_type": "code",
   "execution_count": null,
   "metadata": {},
   "outputs": [],
   "source": [
    "mf['trees'] = mf['cells'].apply(lambda cell: cell.combine_neurites().neurites[0])"
   ]
  },
  {
   "cell_type": "markdown",
   "metadata": {},
   "source": [
    "Number of trunks"
   ]
  },
  {
   "cell_type": "code",
   "execution_count": null,
   "metadata": {},
   "outputs": [],
   "source": [
    "mf['nb_children'] = mf['trees'].apply(lambda tree: tree.get_node_children_number())\n",
    "mf['nb_trunks'] = mf['nb_children'].apply(lambda nb_children: nb_children[0])"
   ]
  },
  {
   "cell_type": "code",
   "execution_count": null,
   "metadata": {},
   "outputs": [],
   "source": [
    "plot_hist(mf, 'nb_trunks', is_log=True)"
   ]
  },
  {
   "cell_type": "code",
   "execution_count": null,
   "metadata": {},
   "outputs": [],
   "source": [
    "extreme_df = mf[mf['nb_trunks'] > 9]\n",
    "for i, row in extreme_df.iterrows():\n",
    "    neuron(row['cells'])"
   ]
  },
  {
   "cell_type": "markdown",
   "metadata": {},
   "source": [
    "Longest Bar"
   ]
  },
  {
   "cell_type": "code",
   "execution_count": null,
   "metadata": {},
   "outputs": [],
   "source": [
    "mf['max_length_bar'] = mf['barcodes'].apply(lambda barcode: max(get_lengths(barcode)))"
   ]
  },
  {
   "cell_type": "code",
   "execution_count": null,
   "metadata": {},
   "outputs": [],
   "source": [
    "plot_hist(mf, 'max_length_bar')"
   ]
  },
  {
   "cell_type": "code",
   "execution_count": null,
   "metadata": {},
   "outputs": [],
   "source": [
    "extreme_df = mf[mf['max_length_bar'] >90]\n",
    "for i, row in extreme_df.iterrows():\n",
    "    neuron(row['cells'])\n",
    "    print(row['Animal'])"
   ]
  },
  {
   "cell_type": "markdown",
   "metadata": {},
   "source": [
    "Number of Bars"
   ]
  },
  {
   "cell_type": "code",
   "execution_count": null,
   "metadata": {},
   "outputs": [],
   "source": [
    "plot_hist(mf, 'nb_bars', is_log=True)"
   ]
  },
  {
   "cell_type": "code",
   "execution_count": null,
   "metadata": {},
   "outputs": [],
   "source": [
    "extreme_df = mf[mf['nb_bars'] > 240]\n",
    "for i, row in extreme_df.iterrows():\n",
    "    neuron(row['cells'])\n",
    "    print(row['Animal'])"
   ]
  },
  {
   "cell_type": "markdown",
   "metadata": {},
   "source": [
    "Duplicates"
   ]
  },
  {
   "cell_type": "code",
   "execution_count": null,
   "metadata": {},
   "outputs": [],
   "source": [
    "# First, apply the logic to find duplicates and create the 'duplicate' column\n",
    "mf['duplicate'] = mf['trees'].apply(lambda tree: any(tree.is_equal(other_tree) for other_tree in mf['trees'] if other_tree is not tree))\n",
    "\n",
    "# Filter the dataframe to return rows where 'duplicate' is True\n",
    "duplicates_df = mf[mf['duplicate'] == True]"
   ]
  },
  {
   "cell_type": "code",
   "execution_count": null,
   "metadata": {},
   "outputs": [],
   "source": [
    "# List to store groups of indices for identical trees\n",
    "groups = []\n",
    "# Set to track rows that have already been grouped\n",
    "visited = set()\n",
    "\n",
    "# Iterate over the duplicate rows\n",
    "for idx_i, row_i in duplicates_df.iterrows():\n",
    "    if idx_i in visited:\n",
    "        continue\n",
    "    # Start a new group with the current row\n",
    "    group_indices = [idx_i]\n",
    "    # Compare current tree with all other trees in duplicates_df\n",
    "    for idx_j, row_j in duplicates_df.iterrows():\n",
    "        if idx_j in visited or idx_j == idx_i:\n",
    "            continue\n",
    "        if row_i['trees'].is_equal(row_j['trees']):\n",
    "            group_indices.append(idx_j)\n",
    "            visited.add(idx_j)\n",
    "    # Mark the current row as visited\n",
    "    visited.add(idx_i)\n",
    "    groups.append(group_indices)\n",
    "\n",
    "# Now, create a list of dataframes, one for each group\n",
    "group_dfs = [duplicates_df.loc[indices] for indices in groups]"
   ]
  },
  {
   "cell_type": "code",
   "execution_count": null,
   "metadata": {},
   "outputs": [],
   "source": [
    "len(group_dfs)"
   ]
  }
 ],
 "metadata": {
  "kernelspec": {
   "display_name": "kxa-ana",
   "language": "python",
   "name": "python3"
  },
  "language_info": {
   "codemirror_mode": {
    "name": "ipython",
    "version": 3
   },
   "file_extension": ".py",
   "mimetype": "text/x-python",
   "name": "python",
   "nbconvert_exporter": "python",
   "pygments_lexer": "ipython3",
   "version": "3.9.21"
  }
 },
 "nbformat": 4,
 "nbformat_minor": 2
}
