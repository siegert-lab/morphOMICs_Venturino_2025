{
 "cells": [
  {
   "cell_type": "code",
   "execution_count": 1,
   "metadata": {},
   "outputs": [],
   "source": [
    "%load_ext autoreload\n",
    "%autoreload 2"
   ]
  },
  {
   "cell_type": "code",
   "execution_count": 2,
   "metadata": {},
   "outputs": [
    {
     "name": "stderr",
     "output_type": "stream",
     "text": [
      "/home/thomas/miniconda3/envs/kxa-ana/lib/python3.9/site-packages/torch_geometric/typing.py:86: UserWarning: An issue occurred while importing 'torch-scatter'. Disabling its usage. Stacktrace: /home/thomas/miniconda3/envs/kxa-ana/lib/python3.9/site-packages/torch_scatter/_version_cpu.so: undefined symbol: _ZN3c106detail14torchCheckFailEPKcS2_jRKNSt7__cxx1112basic_stringIcSt11char_traitsIcESaIcEEE\n",
      "  warnings.warn(f\"An issue occurred while importing 'torch-scatter'. \"\n"
     ]
    }
   ],
   "source": [
    "from morphomics.io.io import load_obj, save_obj\n",
    "from morphomics.persistent_homology.ph_analysis import get_lengths\n",
    "from kxa_analysis import plot_hist\n",
    "from morphomics.view.view import neuron\n",
    "from morphomics import pipeline"
   ]
  },
  {
   "cell_type": "code",
   "execution_count": 44,
   "metadata": {},
   "outputs": [
    {
     "data": {
      "text/plain": [
       "Model                      Sex\n",
       "1xKXA+ADRENALECTOMY_4h     F      119\n",
       "1xKXA+FKBP5KO_4h           F      153\n",
       "                           M      136\n",
       "1xKXA+SAFIT2_4h            F      839\n",
       "                           M      912\n",
       "1xKXA_4h                   F      231\n",
       "                           M      120\n",
       "1xSaline+ADRENALECTOMY_4h  F      135\n",
       "1xSaline+FKBP5KO_4h        F      154\n",
       "                           M      133\n",
       "1xSaline+SAFIT2_4h         F      968\n",
       "                           M      765\n",
       "1xSaline_4h                F      131\n",
       "                           M      118\n",
       "dtype: int64"
      ]
     },
     "execution_count": 44,
     "metadata": {},
     "output_type": "execute_result"
    }
   ],
   "source": [
    "mf_path = 'results/vectorization/Morphomics.PID_v1.pi_lm'\n",
    "mf = load_obj(mf_path)\n",
    "mf.groupby(['Model', 'Sex']).size()"
   ]
  },
  {
   "cell_type": "code",
   "execution_count": 41,
   "metadata": {},
   "outputs": [
    {
     "data": {
      "text/plain": [
       "4914"
      ]
     },
     "execution_count": 41,
     "metadata": {},
     "output_type": "execute_result"
    }
   ],
   "source": [
    "len(mf)"
   ]
  },
  {
   "cell_type": "code",
   "execution_count": 45,
   "metadata": {},
   "outputs": [],
   "source": [
    "import numpy as np\n",
    "import pandas as pd\n",
    "\n",
    "def find_fuzzy_duplicate_indices(df, column='Model', tolerance=0.1):\n",
    "    n = len(df)\n",
    "    duplicates_list = [[] for _ in range(n)]\n",
    "\n",
    "    for i in range(n):\n",
    "        arr_i = df.at[i, column]\n",
    "        for j in range(n):\n",
    "            if i != j:\n",
    "                arr_j = df.at[j, column]\n",
    "                \n",
    "                # Check shape first\n",
    "                if arr_i.shape == arr_j.shape:\n",
    "                    # Check element-wise closeness\n",
    "                    if np.allclose(arr_i, arr_j, rtol=0, atol=tolerance):\n",
    "                        duplicates_list[i].append(j)\n",
    "\n",
    "    return duplicates_list\n"
   ]
  },
  {
   "cell_type": "code",
   "execution_count": 46,
   "metadata": {},
   "outputs": [],
   "source": [
    "mf['DuplicateIndices'] = find_fuzzy_duplicate_indices(mf, column='barcodes', tolerance=0.1)\n"
   ]
  },
  {
   "cell_type": "code",
   "execution_count": 47,
   "metadata": {},
   "outputs": [],
   "source": [
    "def remove_higher_index_duplicates(df, duplicate_col='DuplicateIndices'):\n",
    "    # Collect all indices to drop\n",
    "    indices_to_drop = set()\n",
    "    \n",
    "    for i, duplicates in df[duplicate_col].items():\n",
    "        for dup_idx in duplicates:\n",
    "            if dup_idx > i:\n",
    "                indices_to_drop.add(dup_idx)\n",
    "\n",
    "    # Drop those indices and reset index\n",
    "    df_cleaned = df.drop(index=indices_to_drop).reset_index(drop=True)\n",
    "    return df_cleaned\n"
   ]
  },
  {
   "cell_type": "code",
   "execution_count": 48,
   "metadata": {},
   "outputs": [],
   "source": [
    "mf_cleaned = remove_higher_index_duplicates(mf, duplicate_col='DuplicateIndices')\n"
   ]
  },
  {
   "cell_type": "code",
   "execution_count": 40,
   "metadata": {},
   "outputs": [
    {
     "data": {
      "text/plain": [
       "3260"
      ]
     },
     "execution_count": 40,
     "metadata": {},
     "output_type": "execute_result"
    }
   ],
   "source": [
    "len(mf_cleaned)"
   ]
  },
  {
   "cell_type": "code",
   "execution_count": 49,
   "metadata": {},
   "outputs": [],
   "source": [
    "mf_path = 'results/vectorization/Morphomics.PID_v1.pi_lm'\n",
    "save_obj(mf_cleaned, mf_path)"
   ]
  },
  {
   "cell_type": "code",
   "execution_count": 36,
   "metadata": {},
   "outputs": [
    {
     "data": {
      "text/plain": [
       "Layer                                                      All_Layers\n",
       "Model                                                 1xKXA+SAFIT2_4h\n",
       "Sex                                                                 M\n",
       "Animal              BL6_M_KXA+SAFIT2_VGLUT2488_IBA568_CD68647_DAPI...\n",
       "file_name           Filament_001_Filaments1_Trace_0021_nl_correcte...\n",
       "file_path           ../data_v1/All_Layers/1xKXA+SAFIT2_4h/M/BL6_M_...\n",
       "swc_array           [[1.0, 1.0, 45996.094, 20777.736, 15.529, 0.66...\n",
       "cells               <morphomics.cells.neuron.neuron.Neuron object ...\n",
       "barcodes            [[36.6312370300293, 36.374752044677734], [19.0...\n",
       "trees               <morphomics.cells.tree.tree.Tree object at 0x7...\n",
       "nb_children         [2.0, 1.0, 2.0, 1.0, 1.0, 1.0, 1.0, 2.0, 1.0, ...\n",
       "nb_trunks                                                         2.0\n",
       "max_length_bar                                              65.343277\n",
       "nb_bars                                                            67\n",
       "HasDuplicate                                                     True\n",
       "DuplicateIndices                                                 [56]\n",
       "Name: 0, dtype: object"
      ]
     },
     "execution_count": 36,
     "metadata": {},
     "output_type": "execute_result"
    }
   ],
   "source": [
    "mf.iloc[0]"
   ]
  },
  {
   "cell_type": "code",
   "execution_count": 35,
   "metadata": {},
   "outputs": [
    {
     "data": {
      "text/plain": [
       "Layer                                                      All_Layers\n",
       "Model                                                 1xKXA+SAFIT2_4h\n",
       "Sex                                                                 M\n",
       "Animal              BL6_M_KXA+SAFIT2_VGLUT2488_IBA568_CD68647_DAPI...\n",
       "file_name            Filament_003_LAYER23_Trace_0006_nl_corrected.swc\n",
       "file_path           ../data_v1/All_Layers/1xKXA+SAFIT2_4h/M/BL6_M_...\n",
       "swc_array           [[1.0, 1.0, 45996.094, 20777.736, 15.529, 0.66...\n",
       "cells               <morphomics.cells.neuron.neuron.Neuron object ...\n",
       "barcodes            [[36.6312370300293, 36.374752044677734], [19.0...\n",
       "trees               <morphomics.cells.tree.tree.Tree object at 0x7...\n",
       "nb_children         [2.0, 1.0, 2.0, 1.0, 1.0, 1.0, 1.0, 2.0, 1.0, ...\n",
       "nb_trunks                                                         2.0\n",
       "max_length_bar                                              65.343277\n",
       "nb_bars                                                            67\n",
       "HasDuplicate                                                     True\n",
       "DuplicateIndices                                                  [0]\n",
       "Name: 56, dtype: object"
      ]
     },
     "execution_count": 35,
     "metadata": {},
     "output_type": "execute_result"
    }
   ],
   "source": [
    "mf.iloc[56]"
   ]
  },
  {
   "cell_type": "code",
   "execution_count": 33,
   "metadata": {},
   "outputs": [
    {
     "data": {
      "text/html": [
       "<div>\n",
       "<style scoped>\n",
       "    .dataframe tbody tr th:only-of-type {\n",
       "        vertical-align: middle;\n",
       "    }\n",
       "\n",
       "    .dataframe tbody tr th {\n",
       "        vertical-align: top;\n",
       "    }\n",
       "\n",
       "    .dataframe thead th {\n",
       "        text-align: right;\n",
       "    }\n",
       "</style>\n",
       "<table border=\"1\" class=\"dataframe\">\n",
       "  <thead>\n",
       "    <tr style=\"text-align: right;\">\n",
       "      <th></th>\n",
       "      <th>Layer</th>\n",
       "      <th>Model</th>\n",
       "      <th>Sex</th>\n",
       "      <th>Animal</th>\n",
       "      <th>file_name</th>\n",
       "      <th>file_path</th>\n",
       "      <th>swc_array</th>\n",
       "      <th>cells</th>\n",
       "      <th>barcodes</th>\n",
       "      <th>trees</th>\n",
       "      <th>nb_children</th>\n",
       "      <th>nb_trunks</th>\n",
       "      <th>max_length_bar</th>\n",
       "      <th>nb_bars</th>\n",
       "      <th>HasDuplicate</th>\n",
       "      <th>DuplicateIndices</th>\n",
       "    </tr>\n",
       "  </thead>\n",
       "  <tbody>\n",
       "    <tr>\n",
       "      <th>0</th>\n",
       "      <td>All_Layers</td>\n",
       "      <td>1xKXA+SAFIT2_4h</td>\n",
       "      <td>M</td>\n",
       "      <td>BL6_M_KXA+SAFIT2_VGLUT2488_IBA568_CD68647_DAPI...</td>\n",
       "      <td>Filament_001_Filaments1_Trace_0021_nl_correcte...</td>\n",
       "      <td>../data_v1/All_Layers/1xKXA+SAFIT2_4h/M/BL6_M_...</td>\n",
       "      <td>[[1.0, 1.0, 45996.094, 20777.736, 15.529, 0.66...</td>\n",
       "      <td>&lt;morphomics.cells.neuron.neuron.Neuron object ...</td>\n",
       "      <td>[[36.6312370300293, 36.374752044677734], [19.0...</td>\n",
       "      <td>&lt;morphomics.cells.tree.tree.Tree object at 0x7...</td>\n",
       "      <td>[2.0, 1.0, 2.0, 1.0, 1.0, 1.0, 1.0, 2.0, 1.0, ...</td>\n",
       "      <td>2.0</td>\n",
       "      <td>65.343277</td>\n",
       "      <td>67</td>\n",
       "      <td>True</td>\n",
       "      <td>[56]</td>\n",
       "    </tr>\n",
       "    <tr>\n",
       "      <th>1</th>\n",
       "      <td>All_Layers</td>\n",
       "      <td>1xKXA+SAFIT2_4h</td>\n",
       "      <td>M</td>\n",
       "      <td>BL6_M_KXA+SAFIT2_VGLUT2488_IBA568_CD68647_DAPI...</td>\n",
       "      <td>Filament_003_LAYER23_Trace_0004_nl_corrected.swc</td>\n",
       "      <td>../data_v1/All_Layers/1xKXA+SAFIT2_4h/M/BL6_M_...</td>\n",
       "      <td>[[1.0, 1.0, 45921.652, 20605.705, 16.435, 0.68...</td>\n",
       "      <td>&lt;morphomics.cells.neuron.neuron.Neuron object ...</td>\n",
       "      <td>[[35.974395751953125, 35.436771392822266], [33...</td>\n",
       "      <td>&lt;morphomics.cells.tree.tree.Tree object at 0x7...</td>\n",
       "      <td>[5.0, 1.0, 1.0, 2.0, 1.0, 1.0, 1.0, 1.0, 1.0, ...</td>\n",
       "      <td>5.0</td>\n",
       "      <td>40.031033</td>\n",
       "      <td>47</td>\n",
       "      <td>True</td>\n",
       "      <td>[90]</td>\n",
       "    </tr>\n",
       "    <tr>\n",
       "      <th>2</th>\n",
       "      <td>All_Layers</td>\n",
       "      <td>1xKXA+SAFIT2_4h</td>\n",
       "      <td>M</td>\n",
       "      <td>BL6_M_KXA+SAFIT2_VGLUT2488_IBA568_CD68647_DAPI...</td>\n",
       "      <td>Filament_001_Filaments1_Trace_0065_nl_correcte...</td>\n",
       "      <td>../data_v1/All_Layers/1xKXA+SAFIT2_4h/M/BL6_M_...</td>\n",
       "      <td>[[1.0, 1.0, 46280.547, 20725.084, 30.928, 1.17...</td>\n",
       "      <td>&lt;morphomics.cells.neuron.neuron.Neuron object ...</td>\n",
       "      <td>[[18.82964324951172, 20.38500213623047], [19.7...</td>\n",
       "      <td>&lt;morphomics.cells.tree.tree.Tree object at 0x7...</td>\n",
       "      <td>[3.0, 1.0, 4.0, 1.0, 1.0, 1.0, 1.0, 1.0, 1.0, ...</td>\n",
       "      <td>3.0</td>\n",
       "      <td>45.321716</td>\n",
       "      <td>52</td>\n",
       "      <td>True</td>\n",
       "      <td>[]</td>\n",
       "    </tr>\n",
       "    <tr>\n",
       "      <th>3</th>\n",
       "      <td>All_Layers</td>\n",
       "      <td>1xKXA+SAFIT2_4h</td>\n",
       "      <td>M</td>\n",
       "      <td>BL6_M_KXA+SAFIT2_VGLUT2488_IBA568_CD68647_DAPI...</td>\n",
       "      <td>Filament_004_LAYER4_Trace_0028_nl_corrected.swc</td>\n",
       "      <td>../data_v1/All_Layers/1xKXA+SAFIT2_4h/M/BL6_M_...</td>\n",
       "      <td>[[1.0, 1.0, 46182.828, 20928.957, 0.208, 1.774...</td>\n",
       "      <td>&lt;morphomics.cells.neuron.neuron.Neuron object ...</td>\n",
       "      <td>[[38.67806625366211, 40.02254867553711], [38.8...</td>\n",
       "      <td>&lt;morphomics.cells.tree.tree.Tree object at 0x7...</td>\n",
       "      <td>[2.0, 1.0, 1.0, 1.0, 1.0, 1.0, 1.0, 1.0, 1.0, ...</td>\n",
       "      <td>2.0</td>\n",
       "      <td>46.971172</td>\n",
       "      <td>32</td>\n",
       "      <td>True</td>\n",
       "      <td>[29]</td>\n",
       "    </tr>\n",
       "    <tr>\n",
       "      <th>4</th>\n",
       "      <td>All_Layers</td>\n",
       "      <td>1xKXA+SAFIT2_4h</td>\n",
       "      <td>M</td>\n",
       "      <td>BL6_M_KXA+SAFIT2_VGLUT2488_IBA568_CD68647_DAPI...</td>\n",
       "      <td>Filament_001_Filaments1_Trace_0064_nl_correcte...</td>\n",
       "      <td>../data_v1/All_Layers/1xKXA+SAFIT2_4h/M/BL6_M_...</td>\n",
       "      <td>[[1.0, 1.0, 46191.117, 20768.512, 24.688, 0.96...</td>\n",
       "      <td>&lt;morphomics.cells.neuron.neuron.Neuron object ...</td>\n",
       "      <td>[[23.935894012451172, 21.586734771728516], [42...</td>\n",
       "      <td>&lt;morphomics.cells.tree.tree.Tree object at 0x7...</td>\n",
       "      <td>[4.0, 1.0, 2.0, 1.0, 2.0, 1.0, 1.0, 1.0, 1.0, ...</td>\n",
       "      <td>4.0</td>\n",
       "      <td>45.954884</td>\n",
       "      <td>39</td>\n",
       "      <td>True</td>\n",
       "      <td>[47]</td>\n",
       "    </tr>\n",
       "    <tr>\n",
       "      <th>...</th>\n",
       "      <td>...</td>\n",
       "      <td>...</td>\n",
       "      <td>...</td>\n",
       "      <td>...</td>\n",
       "      <td>...</td>\n",
       "      <td>...</td>\n",
       "      <td>...</td>\n",
       "      <td>...</td>\n",
       "      <td>...</td>\n",
       "      <td>...</td>\n",
       "      <td>...</td>\n",
       "      <td>...</td>\n",
       "      <td>...</td>\n",
       "      <td>...</td>\n",
       "      <td>...</td>\n",
       "      <td>...</td>\n",
       "    </tr>\n",
       "    <tr>\n",
       "      <th>4809</th>\n",
       "      <td>All_Layers</td>\n",
       "      <td>1xSaline+SAFIT2_4h</td>\n",
       "      <td>F</td>\n",
       "      <td>BL6_F_SAL+SAFIT2_VGLUT2488_IBA568_CD68647_DAPI...</td>\n",
       "      <td>Filament_001_Filaments1_Trace_0087_nl_correcte...</td>\n",
       "      <td>../data_v1/All_Layers/1xSaline+SAFIT2_4h/F/BL6...</td>\n",
       "      <td>[[1.0, 1.0, 56106.168, 20810.094, 14.847, 1.27...</td>\n",
       "      <td>&lt;morphomics.cells.neuron.neuron.Neuron object ...</td>\n",
       "      <td>[[11.65161418914795, 7.394983768463135], [5.99...</td>\n",
       "      <td>&lt;morphomics.cells.tree.tree.Tree object at 0x7...</td>\n",
       "      <td>[5.0, 1.0, 2.0, 1.0, 1.0, 1.0, 1.0, 1.0, 1.0, ...</td>\n",
       "      <td>5.0</td>\n",
       "      <td>43.533615</td>\n",
       "      <td>54</td>\n",
       "      <td>True</td>\n",
       "      <td>[4778]</td>\n",
       "    </tr>\n",
       "    <tr>\n",
       "      <th>4810</th>\n",
       "      <td>All_Layers</td>\n",
       "      <td>1xSaline+SAFIT2_4h</td>\n",
       "      <td>F</td>\n",
       "      <td>BL6_F_SAL+SAFIT2_VGLUT2488_IBA568_CD68647_DAPI...</td>\n",
       "      <td>Filament_001_Filaments1_Trace_0033_nl_correcte...</td>\n",
       "      <td>../data_v1/All_Layers/1xSaline+SAFIT2_4h/F/BL6...</td>\n",
       "      <td>[[1.0, 1.0, 56039.555, 20806.439, 14.771, 0.66...</td>\n",
       "      <td>&lt;morphomics.cells.neuron.neuron.Neuron object ...</td>\n",
       "      <td>[[29.36760902404785, 29.878097534179688], [36....</td>\n",
       "      <td>&lt;morphomics.cells.tree.tree.Tree object at 0x7...</td>\n",
       "      <td>[3.0, 1.0, 1.0, 2.0, 1.0, 1.0, 1.0, 1.0, 1.0, ...</td>\n",
       "      <td>3.0</td>\n",
       "      <td>53.405918</td>\n",
       "      <td>82</td>\n",
       "      <td>True</td>\n",
       "      <td>[4805]</td>\n",
       "    </tr>\n",
       "    <tr>\n",
       "      <th>4811</th>\n",
       "      <td>All_Layers</td>\n",
       "      <td>1xSaline+SAFIT2_4h</td>\n",
       "      <td>F</td>\n",
       "      <td>BL6_F_SAL+SAFIT2_VGLUT2488_IBA568_CD68647_DAPI...</td>\n",
       "      <td>Filament_004_LAYER4_Trace_0021_nl_corrected.swc</td>\n",
       "      <td>../data_v1/All_Layers/1xSaline+SAFIT2_4h/F/BL6...</td>\n",
       "      <td>[[1.0, 1.0, 56292.574, 20860.063, 33.722, 0.66...</td>\n",
       "      <td>&lt;morphomics.cells.neuron.neuron.Neuron object ...</td>\n",
       "      <td>[[36.619075775146484, 38.496986389160156], [37...</td>\n",
       "      <td>&lt;morphomics.cells.tree.tree.Tree object at 0x7...</td>\n",
       "      <td>[2.0, 1.0, 1.0, 2.0, 1.0, 1.0, 1.0, 1.0, 1.0, ...</td>\n",
       "      <td>2.0</td>\n",
       "      <td>41.076477</td>\n",
       "      <td>23</td>\n",
       "      <td>True</td>\n",
       "      <td>[4758]</td>\n",
       "    </tr>\n",
       "    <tr>\n",
       "      <th>4812</th>\n",
       "      <td>All_Layers</td>\n",
       "      <td>1xSaline+SAFIT2_4h</td>\n",
       "      <td>F</td>\n",
       "      <td>BL6_F_SAL+SAFIT2_VGLUT2488_IBA568_CD68647_DAPI...</td>\n",
       "      <td>Filament_001_Filaments1_Trace_0018_nl_correcte...</td>\n",
       "      <td>../data_v1/All_Layers/1xSaline+SAFIT2_4h/F/BL6...</td>\n",
       "      <td>[[1.0, 1.0, 56247.246, 20748.594, 6.253, 1.166...</td>\n",
       "      <td>&lt;morphomics.cells.neuron.neuron.Neuron object ...</td>\n",
       "      <td>[[49.06952667236328, 52.567562103271484], [52....</td>\n",
       "      <td>&lt;morphomics.cells.tree.tree.Tree object at 0x7...</td>\n",
       "      <td>[5.0, 1.0, 1.0, 1.0, 1.0, 1.0, 1.0, 1.0, 1.0, ...</td>\n",
       "      <td>5.0</td>\n",
       "      <td>54.060230</td>\n",
       "      <td>66</td>\n",
       "      <td>True</td>\n",
       "      <td>[4828]</td>\n",
       "    </tr>\n",
       "    <tr>\n",
       "      <th>4813</th>\n",
       "      <td>All_Layers</td>\n",
       "      <td>1xSaline+SAFIT2_4h</td>\n",
       "      <td>F</td>\n",
       "      <td>BL6_F_SAL+SAFIT2_VGLUT2488_IBA568_CD68647_DAPI...</td>\n",
       "      <td>Filament_004_LAYER4_Trace_0026_nl_corrected.swc</td>\n",
       "      <td>../data_v1/All_Layers/1xSaline+SAFIT2_4h/F/BL6...</td>\n",
       "      <td>[[1.0, 1.0, 56052.398, 20329.064, 26.607, 1.17...</td>\n",
       "      <td>&lt;morphomics.cells.neuron.neuron.Neuron object ...</td>\n",
       "      <td>[[50.43533706665039, 44.97056579589844], [43.8...</td>\n",
       "      <td>&lt;morphomics.cells.tree.tree.Tree object at 0x7...</td>\n",
       "      <td>[4.0, 1.0, 1.0, 1.0, 1.0, 1.0, 1.0, 1.0, 1.0, ...</td>\n",
       "      <td>4.0</td>\n",
       "      <td>56.129284</td>\n",
       "      <td>113</td>\n",
       "      <td>True</td>\n",
       "      <td>[4884]</td>\n",
       "    </tr>\n",
       "  </tbody>\n",
       "</table>\n",
       "<p>4814 rows × 16 columns</p>\n",
       "</div>"
      ],
      "text/plain": [
       "           Layer               Model Sex  \\\n",
       "0     All_Layers     1xKXA+SAFIT2_4h   M   \n",
       "1     All_Layers     1xKXA+SAFIT2_4h   M   \n",
       "2     All_Layers     1xKXA+SAFIT2_4h   M   \n",
       "3     All_Layers     1xKXA+SAFIT2_4h   M   \n",
       "4     All_Layers     1xKXA+SAFIT2_4h   M   \n",
       "...          ...                 ...  ..   \n",
       "4809  All_Layers  1xSaline+SAFIT2_4h   F   \n",
       "4810  All_Layers  1xSaline+SAFIT2_4h   F   \n",
       "4811  All_Layers  1xSaline+SAFIT2_4h   F   \n",
       "4812  All_Layers  1xSaline+SAFIT2_4h   F   \n",
       "4813  All_Layers  1xSaline+SAFIT2_4h   F   \n",
       "\n",
       "                                                 Animal  \\\n",
       "0     BL6_M_KXA+SAFIT2_VGLUT2488_IBA568_CD68647_DAPI...   \n",
       "1     BL6_M_KXA+SAFIT2_VGLUT2488_IBA568_CD68647_DAPI...   \n",
       "2     BL6_M_KXA+SAFIT2_VGLUT2488_IBA568_CD68647_DAPI...   \n",
       "3     BL6_M_KXA+SAFIT2_VGLUT2488_IBA568_CD68647_DAPI...   \n",
       "4     BL6_M_KXA+SAFIT2_VGLUT2488_IBA568_CD68647_DAPI...   \n",
       "...                                                 ...   \n",
       "4809  BL6_F_SAL+SAFIT2_VGLUT2488_IBA568_CD68647_DAPI...   \n",
       "4810  BL6_F_SAL+SAFIT2_VGLUT2488_IBA568_CD68647_DAPI...   \n",
       "4811  BL6_F_SAL+SAFIT2_VGLUT2488_IBA568_CD68647_DAPI...   \n",
       "4812  BL6_F_SAL+SAFIT2_VGLUT2488_IBA568_CD68647_DAPI...   \n",
       "4813  BL6_F_SAL+SAFIT2_VGLUT2488_IBA568_CD68647_DAPI...   \n",
       "\n",
       "                                              file_name  \\\n",
       "0     Filament_001_Filaments1_Trace_0021_nl_correcte...   \n",
       "1      Filament_003_LAYER23_Trace_0004_nl_corrected.swc   \n",
       "2     Filament_001_Filaments1_Trace_0065_nl_correcte...   \n",
       "3       Filament_004_LAYER4_Trace_0028_nl_corrected.swc   \n",
       "4     Filament_001_Filaments1_Trace_0064_nl_correcte...   \n",
       "...                                                 ...   \n",
       "4809  Filament_001_Filaments1_Trace_0087_nl_correcte...   \n",
       "4810  Filament_001_Filaments1_Trace_0033_nl_correcte...   \n",
       "4811    Filament_004_LAYER4_Trace_0021_nl_corrected.swc   \n",
       "4812  Filament_001_Filaments1_Trace_0018_nl_correcte...   \n",
       "4813    Filament_004_LAYER4_Trace_0026_nl_corrected.swc   \n",
       "\n",
       "                                              file_path  \\\n",
       "0     ../data_v1/All_Layers/1xKXA+SAFIT2_4h/M/BL6_M_...   \n",
       "1     ../data_v1/All_Layers/1xKXA+SAFIT2_4h/M/BL6_M_...   \n",
       "2     ../data_v1/All_Layers/1xKXA+SAFIT2_4h/M/BL6_M_...   \n",
       "3     ../data_v1/All_Layers/1xKXA+SAFIT2_4h/M/BL6_M_...   \n",
       "4     ../data_v1/All_Layers/1xKXA+SAFIT2_4h/M/BL6_M_...   \n",
       "...                                                 ...   \n",
       "4809  ../data_v1/All_Layers/1xSaline+SAFIT2_4h/F/BL6...   \n",
       "4810  ../data_v1/All_Layers/1xSaline+SAFIT2_4h/F/BL6...   \n",
       "4811  ../data_v1/All_Layers/1xSaline+SAFIT2_4h/F/BL6...   \n",
       "4812  ../data_v1/All_Layers/1xSaline+SAFIT2_4h/F/BL6...   \n",
       "4813  ../data_v1/All_Layers/1xSaline+SAFIT2_4h/F/BL6...   \n",
       "\n",
       "                                              swc_array  \\\n",
       "0     [[1.0, 1.0, 45996.094, 20777.736, 15.529, 0.66...   \n",
       "1     [[1.0, 1.0, 45921.652, 20605.705, 16.435, 0.68...   \n",
       "2     [[1.0, 1.0, 46280.547, 20725.084, 30.928, 1.17...   \n",
       "3     [[1.0, 1.0, 46182.828, 20928.957, 0.208, 1.774...   \n",
       "4     [[1.0, 1.0, 46191.117, 20768.512, 24.688, 0.96...   \n",
       "...                                                 ...   \n",
       "4809  [[1.0, 1.0, 56106.168, 20810.094, 14.847, 1.27...   \n",
       "4810  [[1.0, 1.0, 56039.555, 20806.439, 14.771, 0.66...   \n",
       "4811  [[1.0, 1.0, 56292.574, 20860.063, 33.722, 0.66...   \n",
       "4812  [[1.0, 1.0, 56247.246, 20748.594, 6.253, 1.166...   \n",
       "4813  [[1.0, 1.0, 56052.398, 20329.064, 26.607, 1.17...   \n",
       "\n",
       "                                                  cells  \\\n",
       "0     <morphomics.cells.neuron.neuron.Neuron object ...   \n",
       "1     <morphomics.cells.neuron.neuron.Neuron object ...   \n",
       "2     <morphomics.cells.neuron.neuron.Neuron object ...   \n",
       "3     <morphomics.cells.neuron.neuron.Neuron object ...   \n",
       "4     <morphomics.cells.neuron.neuron.Neuron object ...   \n",
       "...                                                 ...   \n",
       "4809  <morphomics.cells.neuron.neuron.Neuron object ...   \n",
       "4810  <morphomics.cells.neuron.neuron.Neuron object ...   \n",
       "4811  <morphomics.cells.neuron.neuron.Neuron object ...   \n",
       "4812  <morphomics.cells.neuron.neuron.Neuron object ...   \n",
       "4813  <morphomics.cells.neuron.neuron.Neuron object ...   \n",
       "\n",
       "                                               barcodes  \\\n",
       "0     [[36.6312370300293, 36.374752044677734], [19.0...   \n",
       "1     [[35.974395751953125, 35.436771392822266], [33...   \n",
       "2     [[18.82964324951172, 20.38500213623047], [19.7...   \n",
       "3     [[38.67806625366211, 40.02254867553711], [38.8...   \n",
       "4     [[23.935894012451172, 21.586734771728516], [42...   \n",
       "...                                                 ...   \n",
       "4809  [[11.65161418914795, 7.394983768463135], [5.99...   \n",
       "4810  [[29.36760902404785, 29.878097534179688], [36....   \n",
       "4811  [[36.619075775146484, 38.496986389160156], [37...   \n",
       "4812  [[49.06952667236328, 52.567562103271484], [52....   \n",
       "4813  [[50.43533706665039, 44.97056579589844], [43.8...   \n",
       "\n",
       "                                                  trees  \\\n",
       "0     <morphomics.cells.tree.tree.Tree object at 0x7...   \n",
       "1     <morphomics.cells.tree.tree.Tree object at 0x7...   \n",
       "2     <morphomics.cells.tree.tree.Tree object at 0x7...   \n",
       "3     <morphomics.cells.tree.tree.Tree object at 0x7...   \n",
       "4     <morphomics.cells.tree.tree.Tree object at 0x7...   \n",
       "...                                                 ...   \n",
       "4809  <morphomics.cells.tree.tree.Tree object at 0x7...   \n",
       "4810  <morphomics.cells.tree.tree.Tree object at 0x7...   \n",
       "4811  <morphomics.cells.tree.tree.Tree object at 0x7...   \n",
       "4812  <morphomics.cells.tree.tree.Tree object at 0x7...   \n",
       "4813  <morphomics.cells.tree.tree.Tree object at 0x7...   \n",
       "\n",
       "                                            nb_children  nb_trunks  \\\n",
       "0     [2.0, 1.0, 2.0, 1.0, 1.0, 1.0, 1.0, 2.0, 1.0, ...        2.0   \n",
       "1     [5.0, 1.0, 1.0, 2.0, 1.0, 1.0, 1.0, 1.0, 1.0, ...        5.0   \n",
       "2     [3.0, 1.0, 4.0, 1.0, 1.0, 1.0, 1.0, 1.0, 1.0, ...        3.0   \n",
       "3     [2.0, 1.0, 1.0, 1.0, 1.0, 1.0, 1.0, 1.0, 1.0, ...        2.0   \n",
       "4     [4.0, 1.0, 2.0, 1.0, 2.0, 1.0, 1.0, 1.0, 1.0, ...        4.0   \n",
       "...                                                 ...        ...   \n",
       "4809  [5.0, 1.0, 2.0, 1.0, 1.0, 1.0, 1.0, 1.0, 1.0, ...        5.0   \n",
       "4810  [3.0, 1.0, 1.0, 2.0, 1.0, 1.0, 1.0, 1.0, 1.0, ...        3.0   \n",
       "4811  [2.0, 1.0, 1.0, 2.0, 1.0, 1.0, 1.0, 1.0, 1.0, ...        2.0   \n",
       "4812  [5.0, 1.0, 1.0, 1.0, 1.0, 1.0, 1.0, 1.0, 1.0, ...        5.0   \n",
       "4813  [4.0, 1.0, 1.0, 1.0, 1.0, 1.0, 1.0, 1.0, 1.0, ...        4.0   \n",
       "\n",
       "      max_length_bar  nb_bars  HasDuplicate DuplicateIndices  \n",
       "0          65.343277       67          True             [56]  \n",
       "1          40.031033       47          True             [90]  \n",
       "2          45.321716       52          True               []  \n",
       "3          46.971172       32          True             [29]  \n",
       "4          45.954884       39          True             [47]  \n",
       "...              ...      ...           ...              ...  \n",
       "4809       43.533615       54          True           [4778]  \n",
       "4810       53.405918       82          True           [4805]  \n",
       "4811       41.076477       23          True           [4758]  \n",
       "4812       54.060230       66          True           [4828]  \n",
       "4813       56.129284      113          True           [4884]  \n",
       "\n",
       "[4814 rows x 16 columns]"
      ]
     },
     "execution_count": 33,
     "metadata": {},
     "output_type": "execute_result"
    }
   ],
   "source": [
    "mf.iloc[:-100]"
   ]
  },
  {
   "cell_type": "code",
   "execution_count": null,
   "metadata": {},
   "outputs": [],
   "source": [
    "mf.keys()"
   ]
  },
  {
   "cell_type": "code",
   "execution_count": null,
   "metadata": {},
   "outputs": [],
   "source": [
    "mf_path = 'results/vectorization/Morphomics.PID_v1.pi_lm'\n",
    "mf = load_obj(mf_path)\n",
    "print(len(mf))\n",
    "mf.groupby(['Model', 'Sex']).size()"
   ]
  },
  {
   "cell_type": "code",
   "execution_count": null,
   "metadata": {},
   "outputs": [],
   "source": [
    "len(mf)"
   ]
  },
  {
   "cell_type": "code",
   "execution_count": null,
   "metadata": {},
   "outputs": [],
   "source": [
    "my_pip = pipeline.Pipeline(Parameters_ID='lm_test', morphoframe={'lm_test':mf}, \n",
    "                           parameters={'Morphometrics':{\"concatenate\" : True,\n",
    "                                                        \"morphoframe_name\":\"lm_test\"}})"
   ]
  },
  {
   "cell_type": "code",
   "execution_count": null,
   "metadata": {},
   "outputs": [],
   "source": [
    "my_pip.Morphometrics()"
   ]
  },
  {
   "cell_type": "code",
   "execution_count": null,
   "metadata": {},
   "outputs": [],
   "source": [
    "mf_clean = mf.drop(mf.loc[mf['file_path'] == '../data_v1/All_Layers/1xKXA+SAFIT2_4h/M/BL6_M_KXA+SAFIT2_VGLUT2488_IBA568_CD68647_DAPI_V1_3/Filament_001_Filaments1_Trace_0023_nl_corrected.swc'].index)\n"
   ]
  },
  {
   "cell_type": "code",
   "execution_count": null,
   "metadata": {},
   "outputs": [],
   "source": [
    "mf.keys()"
   ]
  },
  {
   "cell_type": "code",
   "execution_count": null,
   "metadata": {},
   "outputs": [],
   "source": [
    "mf.groupby(['Model', 'Sex']).size()"
   ]
  },
  {
   "cell_type": "markdown",
   "metadata": {},
   "source": [
    "Check conditions"
   ]
  },
  {
   "cell_type": "code",
   "execution_count": null,
   "metadata": {},
   "outputs": [],
   "source": [
    "unique_combinations = mf[['Layer', 'Model', 'Sex']].drop_duplicates()\n",
    "print(unique_combinations)\n"
   ]
  },
  {
   "cell_type": "markdown",
   "metadata": {},
   "source": [
    "Transform cells into trees"
   ]
  },
  {
   "cell_type": "code",
   "execution_count": null,
   "metadata": {},
   "outputs": [],
   "source": [
    "mf['trees'] = mf['cells'].apply(lambda cell: cell.combine_neurites().neurites[0])"
   ]
  },
  {
   "cell_type": "markdown",
   "metadata": {},
   "source": [
    "Number of trunks"
   ]
  },
  {
   "cell_type": "code",
   "execution_count": null,
   "metadata": {},
   "outputs": [],
   "source": [
    "mf['nb_children'] = mf['trees'].apply(lambda tree: tree.get_node_children_number())\n",
    "mf['nb_trunks'] = mf['nb_children'].apply(lambda nb_children: nb_children[0])"
   ]
  },
  {
   "cell_type": "code",
   "execution_count": null,
   "metadata": {},
   "outputs": [],
   "source": [
    "plot_hist(mf, 'nb_trunks', is_log=True)"
   ]
  },
  {
   "cell_type": "code",
   "execution_count": null,
   "metadata": {},
   "outputs": [],
   "source": [
    "extreme_df = mf[mf['nb_trunks'] > 9]\n",
    "for i, row in extreme_df.iterrows():\n",
    "    neuron(row['cells'])"
   ]
  },
  {
   "cell_type": "markdown",
   "metadata": {},
   "source": [
    "Longest Bar"
   ]
  },
  {
   "cell_type": "code",
   "execution_count": null,
   "metadata": {},
   "outputs": [],
   "source": [
    "mf['max_length_bar'] = mf['barcodes'].apply(lambda barcode: max(get_lengths(barcode)))"
   ]
  },
  {
   "cell_type": "code",
   "execution_count": null,
   "metadata": {},
   "outputs": [],
   "source": [
    "plot_hist(mf, 'max_length_bar')"
   ]
  },
  {
   "cell_type": "code",
   "execution_count": null,
   "metadata": {},
   "outputs": [],
   "source": [
    "extreme_df = mf[mf['max_length_bar'] >90]\n",
    "for i, row in extreme_df.iterrows():\n",
    "    neuron(row['cells'])\n",
    "    print(row['Animal'])"
   ]
  },
  {
   "cell_type": "markdown",
   "metadata": {},
   "source": [
    "Number of Bars"
   ]
  },
  {
   "cell_type": "code",
   "execution_count": null,
   "metadata": {},
   "outputs": [],
   "source": [
    "plot_hist(mf, 'nb_bars', is_log=True)"
   ]
  },
  {
   "cell_type": "code",
   "execution_count": null,
   "metadata": {},
   "outputs": [],
   "source": [
    "extreme_df = mf[mf['nb_bars'] > 240]\n",
    "for i, row in extreme_df.iterrows():\n",
    "    neuron(row['cells'])\n",
    "    print(row['Animal'])"
   ]
  },
  {
   "cell_type": "markdown",
   "metadata": {},
   "source": [
    "Duplicates"
   ]
  },
  {
   "cell_type": "code",
   "execution_count": null,
   "metadata": {},
   "outputs": [],
   "source": [
    "# First, apply the logic to find duplicates and create the 'duplicate' column\n",
    "mf['duplicate'] = mf['trees'].apply(lambda tree: any(tree.is_equal(other_tree) for other_tree in mf['trees'] if other_tree is not tree))\n",
    "\n",
    "# Filter the dataframe to return rows where 'duplicate' is True\n",
    "duplicates_df = mf[mf['duplicate'] == True]"
   ]
  },
  {
   "cell_type": "code",
   "execution_count": null,
   "metadata": {},
   "outputs": [],
   "source": [
    "# List to store groups of indices for identical trees\n",
    "groups = []\n",
    "# Set to track rows that have already been grouped\n",
    "visited = set()\n",
    "\n",
    "# Iterate over the duplicate rows\n",
    "for idx_i, row_i in duplicates_df.iterrows():\n",
    "    if idx_i in visited:\n",
    "        continue\n",
    "    # Start a new group with the current row\n",
    "    group_indices = [idx_i]\n",
    "    # Compare current tree with all other trees in duplicates_df\n",
    "    for idx_j, row_j in duplicates_df.iterrows():\n",
    "        if idx_j in visited or idx_j == idx_i:\n",
    "            continue\n",
    "        if row_i['trees'].is_equal(row_j['trees']):\n",
    "            group_indices.append(idx_j)\n",
    "            visited.add(idx_j)\n",
    "    # Mark the current row as visited\n",
    "    visited.add(idx_i)\n",
    "    groups.append(group_indices)\n",
    "\n",
    "# Now, create a list of dataframes, one for each group\n",
    "group_dfs = [duplicates_df.loc[indices] for indices in groups]"
   ]
  },
  {
   "cell_type": "code",
   "execution_count": null,
   "metadata": {},
   "outputs": [],
   "source": [
    "len(group_dfs)"
   ]
  }
 ],
 "metadata": {
  "kernelspec": {
   "display_name": "kxa-ana",
   "language": "python",
   "name": "python3"
  },
  "language_info": {
   "codemirror_mode": {
    "name": "ipython",
    "version": 3
   },
   "file_extension": ".py",
   "mimetype": "text/x-python",
   "name": "python",
   "nbconvert_exporter": "python",
   "pygments_lexer": "ipython3",
   "version": "3.9.21"
  }
 },
 "nbformat": 4,
 "nbformat_minor": 2
}
